{
  "nbformat": 4,
  "nbformat_minor": 0,
  "metadata": {
    "colab": {
      "provenance": [],
      "authorship_tag": "ABX9TyNjT0GiCGlIMMOSDOVURd0z",
      "include_colab_link": true
    },
    "kernelspec": {
      "name": "python3",
      "display_name": "Python 3"
    },
    "language_info": {
      "name": "python"
    }
  },
  "cells": [
    {
      "cell_type": "markdown",
      "metadata": {
        "id": "view-in-github",
        "colab_type": "text"
      },
      "source": [
        "<a href=\"https://colab.research.google.com/github/matelslime/python-Note/blob/main/20230211.ipynb\" target=\"_parent\"><img src=\"https://colab.research.google.com/assets/colab-badge.svg\" alt=\"Open In Colab\"/></a>"
      ]
    },
    {
      "cell_type": "markdown",
      "source": [
        "# 20230211筆記"
      ],
      "metadata": {
        "id": "g0YH7JswMZbO"
      }
    },
    {
      "cell_type": "markdown",
      "source": [
        "# 基本資料型態\n",
        "* int(整數)\n",
        "* float(浮點數)\n",
        "* bool(布林變數)\n",
        "* str(字串:文字訊息)\n",
        "\n",
        "使用`type(變數)`可以檢查變數裡面的資料型態"
      ],
      "metadata": {
        "id": "kLIRWap7UMD4"
      }
    },
    {
      "cell_type": "markdown",
      "source": [
        "## 整數除法 (//)"
      ],
      "metadata": {
        "id": "CUXeF5vgXD3I"
      }
    },
    {
      "cell_type": "code",
      "source": [
        "x = 1"
      ],
      "metadata": {
        "id": "Sc6t2P6YY0E4"
      },
      "execution_count": null,
      "outputs": []
    },
    {
      "cell_type": "code",
      "source": [
        "type(x)"
      ],
      "metadata": {
        "id": "wfT3OycOY4RI"
      },
      "execution_count": null,
      "outputs": []
    },
    {
      "cell_type": "code",
      "execution_count": null,
      "metadata": {
        "id": "UQxwTVM6MVo-"
      },
      "outputs": [],
      "source": [
        "y = 4/2"
      ]
    },
    {
      "cell_type": "code",
      "source": [
        "type(y)"
      ],
      "metadata": {
        "id": "MHdX36phZLqZ"
      },
      "execution_count": null,
      "outputs": []
    },
    {
      "cell_type": "code",
      "source": [
        "y"
      ],
      "metadata": {
        "id": "eAPRmf38ZMsw"
      },
      "execution_count": null,
      "outputs": []
    },
    {
      "cell_type": "code",
      "source": [
        "z = 4//2"
      ],
      "metadata": {
        "id": "VlqomnWSZTgA"
      },
      "execution_count": null,
      "outputs": []
    },
    {
      "cell_type": "code",
      "source": [
        "type(z)"
      ],
      "metadata": {
        "id": "RKer5WsAZVlv"
      },
      "execution_count": null,
      "outputs": []
    },
    {
      "cell_type": "markdown",
      "source": [
        "##次方(**)"
      ],
      "metadata": {
        "id": "yF7_trfIXRZW"
      }
    },
    {
      "cell_type": "code",
      "source": [
        "2**2"
      ],
      "metadata": {
        "id": "c9UXxtBEZbqe"
      },
      "execution_count": null,
      "outputs": []
    },
    {
      "cell_type": "code",
      "source": [
        "2**4"
      ],
      "metadata": {
        "id": "buAUp-bSZdP-"
      },
      "execution_count": null,
      "outputs": []
    },
    {
      "cell_type": "markdown",
      "source": [
        "## 布林(bool)"
      ],
      "metadata": {
        "id": "AMeFzEalZhbO"
      }
    },
    {
      "cell_type": "code",
      "source": [
        "3 > 2"
      ],
      "metadata": {
        "id": "gmV8GQADZmD4"
      },
      "execution_count": null,
      "outputs": []
    },
    {
      "cell_type": "code",
      "source": [
        "True + True"
      ],
      "metadata": {
        "id": "HegaqeciZzGv"
      },
      "execution_count": null,
      "outputs": []
    },
    {
      "cell_type": "code",
      "source": [
        "True + False"
      ],
      "metadata": {
        "id": "2gyqYLeSZ002"
      },
      "execution_count": null,
      "outputs": []
    },
    {
      "cell_type": "code",
      "source": [
        "# 比較兩個變數內的值有沒有相等\n",
        "x == z"
      ],
      "metadata": {
        "id": "NMuS8ReJZ3N_"
      },
      "execution_count": null,
      "outputs": []
    },
    {
      "cell_type": "markdown",
      "source": [
        "## 字串\n",
        "https://github.com/vcdemy/python_basics/blob/main/%E5%AD%97%E4%B8%B2.md"
      ],
      "metadata": {
        "id": "K0iI51PpZ4PO"
      }
    },
    {
      "cell_type": "code",
      "source": [
        "w = \"dog\""
      ],
      "metadata": {
        "id": "xlGb_u8LaZGY"
      },
      "execution_count": null,
      "outputs": []
    },
    {
      "cell_type": "code",
      "source": [
        "u = \"It's my dog\""
      ],
      "metadata": {
        "id": "UQrbMibmaapJ"
      },
      "execution_count": null,
      "outputs": []
    },
    {
      "cell_type": "code",
      "source": [
        "# 使用跳脫字元 (Escape Character)\n",
        "v = 'It\\'s my dog'"
      ],
      "metadata": {
        "id": "-NXJW0-Iab4A"
      },
      "execution_count": null,
      "outputs": []
    },
    {
      "cell_type": "code",
      "source": [
        "def foo(name):\n",
        "  print(\"hello!\",name)"
      ],
      "metadata": {
        "id": "MvhovEx3Q_JH"
      },
      "execution_count": null,
      "outputs": []
    },
    {
      "cell_type": "code",
      "source": [
        "y=foo(\"Vv\")"
      ],
      "metadata": {
        "colab": {
          "base_uri": "https://localhost:8080/"
        },
        "id": "lSEtO1cvRJ4t",
        "outputId": "fb1d4a8e-135b-41d0-f930-a02c357194fb"
      },
      "execution_count": null,
      "outputs": [
        {
          "output_type": "stream",
          "name": "stdout",
          "text": [
            "hello! Vv\n"
          ]
        }
      ]
    },
    {
      "cell_type": "markdown",
      "source": [
        "## 字串的加法(+)跟乘法(*)\n"
      ],
      "metadata": {
        "id": "WAVIQKL1ftWp"
      }
    },
    {
      "cell_type": "code",
      "source": [
        "\"abc\"+\"3\""
      ],
      "metadata": {
        "colab": {
          "base_uri": "https://localhost:8080/",
          "height": 35
        },
        "id": "ooh4G3D7fpNq",
        "outputId": "1b08a2c5-85a0-4766-9cd3-08c3af04f4f5"
      },
      "execution_count": null,
      "outputs": [
        {
          "output_type": "execute_result",
          "data": {
            "text/plain": [
              "'abc3'"
            ],
            "application/vnd.google.colaboratory.intrinsic+json": {
              "type": "string"
            }
          },
          "metadata": {},
          "execution_count": 11
        }
      ]
    },
    {
      "cell_type": "code",
      "source": [
        "\"abc\" * 3"
      ],
      "metadata": {
        "colab": {
          "base_uri": "https://localhost:8080/",
          "height": 35
        },
        "id": "0dpH5N5uf1UC",
        "outputId": "72c71696-d3b5-41af-ddee-95ad65733ef8"
      },
      "execution_count": null,
      "outputs": [
        {
          "output_type": "execute_result",
          "data": {
            "text/plain": [
              "'abcabcabc'"
            ],
            "application/vnd.google.colaboratory.intrinsic+json": {
              "type": "string"
            }
          },
          "metadata": {},
          "execution_count": 12
        }
      ]
    },
    {
      "cell_type": "markdown",
      "source": [
        "## 練習：(使用字串畫出底下的金字塔)\n",
        "\n",
        "```\n",
        "    *\n",
        "   ***\n",
        "  *****\n",
        " *******\n",
        "*********\n",
        "```"
      ],
      "metadata": {
        "id": "EOodmEfwgBrY"
      }
    },
    {
      "cell_type": "code",
      "source": [
        "for i in range(3):\n",
        "  print(\"程式區塊開始\")\n",
        "  print(i)\n",
        "  print(\"程式區塊結束\")"
      ],
      "metadata": {
        "colab": {
          "base_uri": "https://localhost:8080/"
        },
        "id": "LvWTClt7h7Pp",
        "outputId": "7e589a47-2757-46a6-98f9-c4021bb18885"
      },
      "execution_count": null,
      "outputs": [
        {
          "output_type": "stream",
          "name": "stdout",
          "text": [
            "程式區塊開始\n",
            "0\n",
            "程式區塊結束\n",
            "程式區塊開始\n",
            "1\n",
            "程式區塊結束\n",
            "程式區塊開始\n",
            "2\n",
            "程式區塊結束\n"
          ]
        }
      ]
    },
    {
      "cell_type": "code",
      "source": [
        "for i in range(5):\n",
        "  print(i)"
      ],
      "metadata": {
        "colab": {
          "base_uri": "https://localhost:8080/"
        },
        "id": "Z_bB04FXiCPA",
        "outputId": "bcfb30b8-068c-41e7-b09a-7e06f4c7ced1"
      },
      "execution_count": null,
      "outputs": [
        {
          "output_type": "stream",
          "name": "stdout",
          "text": [
            "0\n",
            "1\n",
            "2\n",
            "3\n",
            "4\n"
          ]
        }
      ]
    },
    {
      "cell_type": "code",
      "source": [
        "for i in range(5):\n",
        "  print((2*i+1)*'*')"
      ],
      "metadata": {
        "colab": {
          "base_uri": "https://localhost:8080/"
        },
        "id": "W9v672DjiZB4",
        "outputId": "49fa8ec7-5f02-41fb-d9c5-6ccd69c1f267"
      },
      "execution_count": null,
      "outputs": [
        {
          "output_type": "stream",
          "name": "stdout",
          "text": [
            "*\n",
            "***\n",
            "*****\n",
            "*******\n",
            "*********\n"
          ]
        }
      ]
    },
    {
      "cell_type": "code",
      "source": [
        "for i in range(5):\n",
        "  print(i*' '+(2*i+1)*'*')"
      ],
      "metadata": {
        "colab": {
          "base_uri": "https://localhost:8080/"
        },
        "id": "7gdIs-1iig6Y",
        "outputId": "c7472737-25e3-424e-c556-660d12370ce0"
      },
      "execution_count": null,
      "outputs": [
        {
          "output_type": "stream",
          "name": "stdout",
          "text": [
            "*\n",
            " ***\n",
            "  *****\n",
            "   *******\n",
            "    *********\n"
          ]
        }
      ]
    },
    {
      "cell_type": "code",
      "source": [
        "def tower(n):\n",
        " for i in range(n):\n",
        "  print((n-i)*' '+(1+2*i)*'*')\n",
        "\n",
        "tower(5)\n",
        "\n"
      ],
      "metadata": {
        "colab": {
          "base_uri": "https://localhost:8080/"
        },
        "id": "cOeSumBkgUnh",
        "outputId": "93e65ad6-0124-48f7-f535-79ad0e24fc5e"
      },
      "execution_count": null,
      "outputs": [
        {
          "output_type": "stream",
          "name": "stdout",
          "text": [
            "     *\n",
            "    ***\n",
            "   *****\n",
            "  *******\n",
            " *********\n"
          ]
        }
      ]
    },
    {
      "cell_type": "markdown",
      "source": [
        "## input()及print()\n",
        "input():用來讀取輸入\n",
        "print():用來列印輸入"
      ],
      "metadata": {
        "id": "tSRqZpqekzIA"
      }
    },
    {
      "cell_type": "code",
      "source": [
        "x=input(\"請輸入一個數字: \")"
      ],
      "metadata": {
        "colab": {
          "base_uri": "https://localhost:8080/"
        },
        "id": "P6-GVSNEk7Up",
        "outputId": "e1003945-dece-4cc7-bedf-616080e80853"
      },
      "execution_count": null,
      "outputs": [
        {
          "name": "stdout",
          "output_type": "stream",
          "text": [
            "請輸入一個數字: 100\n"
          ]
        }
      ]
    },
    {
      "cell_type": "code",
      "source": [
        "type(x)"
      ],
      "metadata": {
        "colab": {
          "base_uri": "https://localhost:8080/"
        },
        "id": "-bzFsEPFlMfy",
        "outputId": "3768875e-d513-42cc-e894-7abedd09510b"
      },
      "execution_count": null,
      "outputs": [
        {
          "output_type": "execute_result",
          "data": {
            "text/plain": [
              "str"
            ]
          },
          "metadata": {},
          "execution_count": 37
        }
      ]
    },
    {
      "cell_type": "code",
      "source": [
        "print(x)"
      ],
      "metadata": {
        "colab": {
          "base_uri": "https://localhost:8080/"
        },
        "id": "yNdoPPRslt_h",
        "outputId": "063f154c-8171-4d34-edbb-c2c2c107514a"
      },
      "execution_count": null,
      "outputs": [
        {
          "output_type": "stream",
          "name": "stdout",
          "text": [
            "100\n"
          ]
        }
      ]
    },
    {
      "cell_type": "code",
      "source": [
        "x=1\n",
        "y=2\n",
        "z=3\n",
        "print(x,y,z)"
      ],
      "metadata": {
        "colab": {
          "base_uri": "https://localhost:8080/"
        },
        "id": "ikd7_SX9l22q",
        "outputId": "18958a10-8508-494c-f40d-dff7fd67b263"
      },
      "execution_count": null,
      "outputs": [
        {
          "output_type": "stream",
          "name": "stdout",
          "text": [
            "1 2 3\n"
          ]
        }
      ]
    },
    {
      "cell_type": "code",
      "source": [
        "print(x,y,z,sep=\"\")"
      ],
      "metadata": {
        "colab": {
          "base_uri": "https://localhost:8080/"
        },
        "id": "o1dvLcxol4hh",
        "outputId": "c95a7c78-ea70-4474-cbc3-5f088dbf6ba9"
      },
      "execution_count": null,
      "outputs": [
        {
          "output_type": "stream",
          "name": "stdout",
          "text": [
            "123\n"
          ]
        }
      ]
    },
    {
      "cell_type": "code",
      "source": [],
      "metadata": {
        "colab": {
          "base_uri": "https://localhost:8080/"
        },
        "id": "dM95Ia1Emlkj",
        "outputId": "491abf74-e848-4cb4-8bfd-66e39aae290b"
      },
      "execution_count": null,
      "outputs": [
        {
          "output_type": "stream",
          "name": "stdout",
          "text": [
            "請輸入名稱: WSsgdsg\n",
            "hello, WSsgdsg\n"
          ]
        }
      ]
    },
    {
      "cell_type": "markdown",
      "source": [
        "# 基礎容器型別\n",
        "\n",
        "* list(串列)\n",
        "* tuple(元祖)\n",
        "* dict(字典)\n",
        "* set(集合)"
      ],
      "metadata": {
        "id": "XDvzUZNpntz7"
      }
    },
    {
      "cell_type": "markdown",
      "source": [
        "## list"
      ],
      "metadata": {
        "id": "G4krwG5B4v7p"
      }
    },
    {
      "cell_type": "code",
      "source": [
        "x=['a','b','c','d','e']"
      ],
      "metadata": {
        "id": "3mRyNpKkoN7k"
      },
      "execution_count": 4,
      "outputs": []
    },
    {
      "cell_type": "code",
      "source": [
        "x[0]"
      ],
      "metadata": {
        "colab": {
          "base_uri": "https://localhost:8080/",
          "height": 35
        },
        "id": "EVFN4LzO5ND5",
        "outputId": "1920799e-ac39-48c1-db9e-38981a42a7b0"
      },
      "execution_count": null,
      "outputs": [
        {
          "output_type": "execute_result",
          "data": {
            "text/plain": [
              "'a'"
            ],
            "application/vnd.google.colaboratory.intrinsic+json": {
              "type": "string"
            }
          },
          "metadata": {},
          "execution_count": 5
        }
      ]
    },
    {
      "cell_type": "code",
      "source": [
        "# 取得list數量\n",
        "len(x)"
      ],
      "metadata": {
        "colab": {
          "base_uri": "https://localhost:8080/"
        },
        "id": "N0kkWxaL5S94",
        "outputId": "041400db-2849-480f-fc11-abd952f86f7f"
      },
      "execution_count": null,
      "outputs": [
        {
          "output_type": "execute_result",
          "data": {
            "text/plain": [
              "5"
            ]
          },
          "metadata": {},
          "execution_count": 7
        }
      ]
    },
    {
      "cell_type": "code",
      "source": [
        "y=list('abcde')"
      ],
      "metadata": {
        "id": "JY2XQ7gW5Elh"
      },
      "execution_count": null,
      "outputs": []
    },
    {
      "cell_type": "code",
      "source": [
        "y"
      ],
      "metadata": {
        "colab": {
          "base_uri": "https://localhost:8080/"
        },
        "id": "neVGXBq15Mdp",
        "outputId": "b9f31281-aaa4-4151-a6ed-001af3792413"
      },
      "execution_count": null,
      "outputs": [
        {
          "output_type": "execute_result",
          "data": {
            "text/plain": [
              "['a', 'b', 'c', 'd', 'e']"
            ]
          },
          "metadata": {},
          "execution_count": 4
        }
      ]
    },
    {
      "cell_type": "markdown",
      "source": [
        "### 從網址中切分出檔案名稱"
      ],
      "metadata": {
        "id": "mg1vH6lT7KZ7"
      }
    },
    {
      "cell_type": "code",
      "source": [
        "url='https://avatars.githubusercontent.com/u/31925656?s=400&u=a7c6ac0c2d6614fd185a565df108b26c82d1801c&v=4'"
      ],
      "metadata": {
        "id": "TnNbYOgc5dyE"
      },
      "execution_count": null,
      "outputs": []
    },
    {
      "cell_type": "code",
      "source": [
        "type(url)"
      ],
      "metadata": {
        "colab": {
          "base_uri": "https://localhost:8080/"
        },
        "id": "9-rn7n-d6qf6",
        "outputId": "baf23a23-a369-40ba-86b5-2851f3e14a54"
      },
      "execution_count": null,
      "outputs": [
        {
          "output_type": "execute_result",
          "data": {
            "text/plain": [
              "str"
            ]
          },
          "metadata": {},
          "execution_count": 10
        }
      ]
    },
    {
      "cell_type": "code",
      "source": [
        "# 方法(method)後面加上問號，執行後會顯示使用說明\n",
        "url.split?"
      ],
      "metadata": {
        "id": "TE7prJsu6wRM"
      },
      "execution_count": null,
      "outputs": []
    },
    {
      "cell_type": "code",
      "source": [
        "# 使用'/\n",
        "url.split('/')"
      ],
      "metadata": {
        "colab": {
          "base_uri": "https://localhost:8080/"
        },
        "id": "mV8xZDsg6e3c",
        "outputId": "914a3158-38b1-4c66-f762-3d4d644b5b16"
      },
      "execution_count": null,
      "outputs": [
        {
          "output_type": "execute_result",
          "data": {
            "text/plain": [
              "['https:',\n",
              " '',\n",
              " 'avatars.githubusercontent.com',\n",
              " 'u',\n",
              " '31925656?s=400&u=a7c6ac0c2d6614fd185a565df108b26c82d1801c&v=4']"
            ]
          },
          "metadata": {},
          "execution_count": 9
        }
      ]
    },
    {
      "cell_type": "code",
      "source": [
        "url.split('/')[-1]"
      ],
      "metadata": {
        "colab": {
          "base_uri": "https://localhost:8080/",
          "height": 35
        },
        "id": "-YEYWior7AVE",
        "outputId": "0533d4a0-dc0e-422d-f83e-f49e494d0c1e"
      },
      "execution_count": null,
      "outputs": [
        {
          "output_type": "execute_result",
          "data": {
            "text/plain": [
              "'31925656?s=400&u=a7c6ac0c2d6614fd185a565df108b26c82d1801c&v=4'"
            ],
            "application/vnd.google.colaboratory.intrinsic+json": {
              "type": "string"
            }
          },
          "metadata": {},
          "execution_count": 11
        }
      ]
    },
    {
      "cell_type": "markdown",
      "source": [
        "### 如何取得list中前幾個或後幾個items？"
      ],
      "metadata": {
        "id": "_rxNTEOe8C2d"
      }
    },
    {
      "cell_type": "code",
      "source": [
        "x"
      ],
      "metadata": {
        "colab": {
          "base_uri": "https://localhost:8080/"
        },
        "id": "ip5a9Vo77-ee",
        "outputId": "45cc3761-5f49-48ed-acd4-16b748764216"
      },
      "execution_count": 6,
      "outputs": [
        {
          "output_type": "execute_result",
          "data": {
            "text/plain": [
              "['a', 'b', 'c', 'd', 'e']"
            ]
          },
          "metadata": {},
          "execution_count": 6
        }
      ]
    },
    {
      "cell_type": "code",
      "source": [
        "# 顯示前三\n",
        "x[:3]"
      ],
      "metadata": {
        "colab": {
          "base_uri": "https://localhost:8080/"
        },
        "id": "gvKLtVbt8UAz",
        "outputId": "7b81d9ba-0086-4426-d2f5-278110776874"
      },
      "execution_count": null,
      "outputs": [
        {
          "output_type": "execute_result",
          "data": {
            "text/plain": [
              "['a', 'b', 'c']"
            ]
          },
          "metadata": {},
          "execution_count": 15
        }
      ]
    },
    {
      "cell_type": "code",
      "source": [
        "# 顯示後三\n",
        "x[:-3]"
      ],
      "metadata": {
        "colab": {
          "base_uri": "https://localhost:8080/"
        },
        "id": "uWLD1ipJ8Yw6",
        "outputId": "89af0357-eef5-472a-f822-87c95ed81741"
      },
      "execution_count": 5,
      "outputs": [
        {
          "output_type": "execute_result",
          "data": {
            "text/plain": [
              "['a', 'b']"
            ]
          },
          "metadata": {},
          "execution_count": 5
        }
      ]
    },
    {
      "cell_type": "markdown",
      "source": [
        "## dict(字典)"
      ],
      "metadata": {
        "id": "71J3aF5h8qns"
      }
    },
    {
      "cell_type": "code",
      "source": [
        "# 建立一個空字典\n",
        "d={}"
      ],
      "metadata": {
        "id": "QTTAbUlq8zT8"
      },
      "execution_count": null,
      "outputs": []
    },
    {
      "cell_type": "code",
      "source": [
        "type(d)"
      ],
      "metadata": {
        "colab": {
          "base_uri": "https://localhost:8080/"
        },
        "id": "HXfakCzx82F8",
        "outputId": "b8a09ad5-66b3-41a5-dbd5-706d3aff8124"
      },
      "execution_count": null,
      "outputs": [
        {
          "output_type": "execute_result",
          "data": {
            "text/plain": [
              "dict"
            ]
          },
          "metadata": {},
          "execution_count": 17
        }
      ]
    },
    {
      "cell_type": "code",
      "source": [
        "# 加入一筆資料\n",
        "d['cat']='貓貓'"
      ],
      "metadata": {
        "id": "02Hp_HRL9Dis"
      },
      "execution_count": null,
      "outputs": []
    },
    {
      "cell_type": "code",
      "source": [
        "d"
      ],
      "metadata": {
        "colab": {
          "base_uri": "https://localhost:8080/"
        },
        "id": "x6jR-Y7u9KQi",
        "outputId": "e176495f-f2bb-4ddb-d0fe-ae5933b5ecf1"
      },
      "execution_count": null,
      "outputs": [
        {
          "output_type": "execute_result",
          "data": {
            "text/plain": [
              "{'cat': '貓貓'}"
            ]
          },
          "metadata": {},
          "execution_count": 21
        }
      ]
    },
    {
      "cell_type": "code",
      "source": [
        "d['dog']='狗'"
      ],
      "metadata": {
        "id": "YYW-yalh9c77"
      },
      "execution_count": null,
      "outputs": []
    },
    {
      "cell_type": "code",
      "source": [
        "d"
      ],
      "metadata": {
        "colab": {
          "base_uri": "https://localhost:8080/"
        },
        "id": "yViQM7Mk9jIb",
        "outputId": "6ef138d5-7594-4faf-e592-1f1c8ac4d870"
      },
      "execution_count": null,
      "outputs": [
        {
          "output_type": "execute_result",
          "data": {
            "text/plain": [
              "{'cat': '貓貓', 'dog': '狗'}"
            ]
          },
          "metadata": {},
          "execution_count": 24
        }
      ]
    },
    {
      "cell_type": "code",
      "source": [
        "# 查詢資料\n",
        "d['cat']"
      ],
      "metadata": {
        "colab": {
          "base_uri": "https://localhost:8080/",
          "height": 35
        },
        "id": "hNH3wzuB9kns",
        "outputId": "5e2fc948-ce0f-48e4-bda4-34bd1b4532ab"
      },
      "execution_count": null,
      "outputs": [
        {
          "output_type": "execute_result",
          "data": {
            "text/plain": [
              "'貓貓'"
            ],
            "application/vnd.google.colaboratory.intrinsic+json": {
              "type": "string"
            }
          },
          "metadata": {},
          "execution_count": 25
        }
      ]
    },
    {
      "cell_type": "markdown",
      "source": [
        "## for迴圈與list及dict的合用"
      ],
      "metadata": {
        "id": "idJV2rjr_GEj"
      }
    },
    {
      "cell_type": "code",
      "source": [
        "x"
      ],
      "metadata": {
        "id": "5XQdEl0R_SD7"
      },
      "execution_count": null,
      "outputs": []
    },
    {
      "cell_type": "code",
      "source": [
        "for i in x:\n",
        "  print(i)"
      ],
      "metadata": {
        "colab": {
          "base_uri": "https://localhost:8080/"
        },
        "id": "GNVi4s1t-w-z",
        "outputId": "764edc69-e21e-4b2d-f61e-c0e49f59a25f"
      },
      "execution_count": null,
      "outputs": [
        {
          "output_type": "stream",
          "name": "stdout",
          "text": [
            "a\n",
            "b\n",
            "c\n",
            "d\n",
            "e\n"
          ]
        }
      ]
    },
    {
      "cell_type": "code",
      "source": [
        "d"
      ],
      "metadata": {
        "colab": {
          "base_uri": "https://localhost:8080/"
        },
        "id": "-1BdvAnd_mzZ",
        "outputId": "c2a732b8-998b-4c7b-9e87-a9b6fd8ce543"
      },
      "execution_count": null,
      "outputs": [
        {
          "output_type": "execute_result",
          "data": {
            "text/plain": [
              "{'cat': '貓貓', 'dog': '狗'}"
            ]
          },
          "metadata": {},
          "execution_count": 27
        }
      ]
    },
    {
      "cell_type": "code",
      "source": [
        "#for迴圈跟字典合用\n",
        "for i in d:\n",
        "  print(i)"
      ],
      "metadata": {
        "colab": {
          "base_uri": "https://localhost:8080/"
        },
        "id": "80L3C9ZK_hhC",
        "outputId": "5eb07fa1-0bb1-4b05-c39f-b8710a81fc35"
      },
      "execution_count": null,
      "outputs": [
        {
          "output_type": "stream",
          "name": "stdout",
          "text": [
            "cat\n",
            "dog\n"
          ]
        }
      ]
    },
    {
      "cell_type": "code",
      "source": [
        "for i in d:\n",
        "  print(d[i])"
      ],
      "metadata": {
        "colab": {
          "base_uri": "https://localhost:8080/"
        },
        "id": "ggKkJX91_w4o",
        "outputId": "c6bb7ada-0ad5-44d3-b84a-e0cf1f5ef7e0"
      },
      "execution_count": null,
      "outputs": [
        {
          "output_type": "stream",
          "name": "stdout",
          "text": [
            "貓貓\n",
            "狗\n"
          ]
        }
      ]
    },
    {
      "cell_type": "code",
      "source": [
        "for i in d:\n",
        "  print(i,\":\",d[i])\n",
        "for i in d:\n",
        "  print(i,d[i],sep=' : ')"
      ],
      "metadata": {
        "colab": {
          "base_uri": "https://localhost:8080/"
        },
        "id": "ulgAazt8ASbO",
        "outputId": "c2116f05-f7cc-4b86-8401-2b507cc712a5"
      },
      "execution_count": null,
      "outputs": [
        {
          "output_type": "stream",
          "name": "stdout",
          "text": [
            "cat : 貓貓\n",
            "dog : 狗\n",
            "cat : 貓貓\n",
            "dog : 狗\n"
          ]
        }
      ]
    },
    {
      "cell_type": "markdown",
      "source": [
        "## 使用request抓取網路資料"
      ],
      "metadata": {
        "id": "2DrBFIAIMqDH"
      }
    },
    {
      "cell_type": "markdown",
      "source": [
        "### 抓取網頁原始碼"
      ],
      "metadata": {
        "id": "D32LbecdNMC2"
      }
    },
    {
      "cell_type": "code",
      "source": [
        "url=\"https://www.books.com.tw/products/0010881161?loc=P_br_r0vq68ygz_D_2aabd0_B_1\""
      ],
      "metadata": {
        "id": "B49o9jQ7MoaL"
      },
      "execution_count": null,
      "outputs": []
    },
    {
      "cell_type": "code",
      "source": [
        "# 載入requests,用來抓取網路上的資料\n",
        "import requests"
      ],
      "metadata": {
        "id": "qUP1PkN0NbBC"
      },
      "execution_count": null,
      "outputs": []
    },
    {
      "cell_type": "code",
      "source": [
        "# 取得特定網址的網頁原始碼,並將回傳的內容(包含headers)放入變數r\n",
        "r=requests.get(url)"
      ],
      "metadata": {
        "id": "N713XpO-NgLi"
      },
      "execution_count": null,
      "outputs": []
    },
    {
      "cell_type": "code",
      "source": [
        "# 印出回傳值中的.text的部分(即網頁原始碼)\n",
        "print(r.text)"
      ],
      "metadata": {
        "colab": {
          "base_uri": "https://localhost:8080/"
        },
        "id": "sLqj9TjNNllU",
        "outputId": "f0da8c0b-d6c2-4d3a-9a3d-038afa0e1d86"
      },
      "execution_count": null,
      "outputs": [
        {
          "output_type": "stream",
          "name": "stdout",
          "text": [
            "<!DOCTYPE HTML PUBLIC \"-//W3C//DTD HTML 4.01//EN\" \"http://www.w3.org/TR/html4/strict.dtd\">\n",
            "<html>\n",
            "<head>\n",
            "<meta http-equiv=\"content-type\" content=\"text/html; charset=utf-8\">\n",
            "<meta http-equiv=\"Content-Language\" content=\"zh-tw\">\n",
            "<title>博客來-股票發大財：用Python預測玩轉股市高手精解</title>\n",
            "<meta name=\"keywords\" content=\"股票發大財：用Python預測玩轉股市高手精解\">\n",
            "<meta name=\"description\" content=\"書名：股票發大財：用Python預測玩轉股市高手精解，語言：繁體中文，ISBN：9789865501730，頁數：368，出版社：深智數位，作者：胡書敏，出版日期：2021/01/21，類別：電腦資訊\">\n",
            "<meta http-equiv=\"X-UA-Compatible\" content=\"IE=edge\">\n",
            "<meta property=\"og:site_name\" content=\"博客來\"/>\n",
            "<meta property=\"og:type\" content=\"product\"/>\n",
            "<meta property=\"fb:app_id\" content=\"210743125726405\" />\n",
            "<meta property=\"og:title\" content=\"股票發大財：用Python預測玩轉股市高手精解\"/>\n",
            "<meta property=\"og:image\" content=\"https://im2.book.com.tw/image/getImage?i=https://www.books.com.tw/img/001/088/11/0010881161.jpg&v=5ff6e2b0k&w=1146&h=600\"/>\n",
            "<meta property=\"og:image:width\" content=\"1146\">\n",
            "<meta property=\"og:image:height\" content=\"600\">\n",
            "<meta property=\"og:url\" content=\"https://www.books.com.tw/products/0010881161\" />\n",
            "<meta property=\"og:description\" content=\"書名：股票發大財：用Python預測玩轉股市高手精解，語言：繁體中文，ISBN：9789865501730，頁數：368，出版社：深智數位，作者：胡書敏，出版日期：2021/01/21，類別：電腦資訊\"/>\n",
            "<meta property=\"product:brand\" content=\"deepmind\"><meta property=\"product:price:amount\" content=\"545\">\n",
            "<meta property=\"product:price:currency\" content=\"TWD\"><meta property=\"product:availability\" content=\"in stock\"><meta property=\"product:retailer_item_id\" content=\"0010881161\">\n",
            "<link rel=\"stylesheet\" href=\"https://jci.book.com.tw/css/books/product/overlay-n.css\">\n",
            "<link rel=\"stylesheet\" href=\"https://jci.book.com.tw/css/css.css\">\n",
            "<link rel=\"canonical\" href=\"https://www.books.com.tw/products/0010881161\">\n",
            "<script>(function(w,d,s,l,i){w[l]=w[l]||[];w[l].push({'gtm.start':new Date().getTime(),event:'gtm.js'});var f=d.getElementsByTagName(s)[0],j=d.createElement(s),dl=l!='dataLayer'?'&l='+l:'';j.async=true;j.src='https://www.googletagmanager.com/gtm.js?id='+i+dl;f.parentNode.insertBefore(j,f);})(window,document,'script','dataLayer','GTM-TBZGS7');</script><script>dataLayer.push({'event':'VirtualPageview','virtualPageURL':'/products/0010881161?bcat=001&bsub=19&bbrand=deepmind'});</script><script>dataLayer.push({\"ecommerce\":{\"detail\":{\"products\":[{\"id\":\"0010881161\",\"name\":\"\\u80a1\\u7968\\u767c\\u5927\\u8ca1\\uff1a\\u7528Python\\u9810\\u6e2c\\u73a9\\u8f49\\u80a1\\u5e02\\u9ad8\\u624b\\u7cbe\\u89e3\",\"price\":545,\"cat\":\"001\",\"sub\":\"19\",\"brand\":\"deepmind\",\"category\":\"001\"}]}}});</script>\n",
            "<script language=\"JavaScript\" src=\"https://jci.book.com.tw/jss/jquery/jquery-1.6.4.min.js \"></script>\n",
            "<script language=\"JavaScript\" src=\"/jss/jquery/plugin/jquery.timers-1.2.js?v=593f57ff\"></script>\n",
            "<script language=\"JavaScript\" type=\"text/javascript\" src=\"https://jci.book.com.tw/jss/header/header-www.js\"></script>\n",
            "<script language=\"JavaScript\" type=\"text/javascript\" src=\"https://jci.book.com.tw/jss/header/aeil.js\"></script>\n",
            "<script language=\"JavaScript\" type=\"text/javascript\" src=\"/jss/web/adv_log.js?v=5aefea69\"></script>\n",
            "<script language=\"JavaScript\" type=\"text/javascript\" src=\"https://jci.book.com.tw/jss/books/jqueryplugin/lazyload/1.9.3/jquery.lazyload.min.js\"></script>\n",
            "<script language=\"JavaScript\" type=\"text/javascript\" src=\"/jss/web/uselazyload.js?v=593f57ff\"></script>\n",
            "<script language=\"JavaScript\" type=\"text/javascript\" src=\"https://jci.book.com.tw/jss/books/head.min.js\"></script>\n",
            "<script language=\"JavaScript\" type=\"text/javascript\" src=\"/jss/web/overlay-n.js?v=593f57ff\"></script><script language=\"JavaScript\" type=\"text/javascript\" src=\"/jss/web/switch_page.js?v=60cacc17\"></script><script language=\"JavaScript\" type=\"text/javascript\" src=\"/jss/web/ajax_product_show.js?v=638817fc\"></script><script language=\"JavaScript\" type=\"text/javascript\" src=\"/jss/web/switch_loaded_tab.js?v=61db99cd\"></script><script language=\"JavaScript\" type=\"text/javascript\" src=\"/jss/web/share_to_fb.js?v=618b3b72\"></script><script language=\"JavaScript\" type=\"text/javascript\" src=\"/jss/web/switch_bankevent_wide.js?v=6201d79e\"></script><script language=\"JavaScript\" type=\"text/javascript\" src=\"/jss/web/show_more.js?v=593f57ff\"></script><script language=\"JavaScript\" type=\"text/javascript\" src=\"/jss/web/more_on_off.js?v=5d269bcd\"></script>\n",
            "<script type=\"application/ld+json\">{\"@context\":\"http:\\/\\/schema.org\\/\",\"@type\":\"Book\",\"@id\":\"https:\\/\\/www.books.com.tw\\/products\\/0010881161\",\"sku\":\"https:\\/\\/www.books.com.tw\\/products\\/0010881161\",\"url\":\"https:\\/\\/www.books.com.tw\\/products\\/0010881161\",\"name\":\"\\u80a1\\u7968\\u767c\\u5927\\u8ca1\\uff1a\\u7528Python\\u9810\\u6e2c\\u73a9\\u8f49\\u80a1\\u5e02\\u9ad8\\u624b\\u7cbe\\u89e3\",\"image\":\"https:\\/\\/im2.book.com.tw\\/image\\/getImage?i=https:\\/\\/www.books.com.tw\\/img\\/001\\/088\\/11\\/0010881161.jpg&v=5ff6e2b0k&w=1146&h=600\",\"datePublished\":\"2021\\/01\\/21\",\"inLanguage\":\"\\u7e41\\u9ad4\\u4e2d\\u6587\",\"author\":[{\"@type\":\"Person\",\"name\":\"\\u80e1\\u66f8\\u654f\"}],\"workExample\":{\"workExample\":{\"@type\":\"Book\",\"isbn\":\"9789865501730\",\"bookFormat\":\"http:\\/\\/schema.org\\/Paperback\",\"potentialAction\":{\"@type\":\"ReadAction\",\"target\":{\"@type\":\"EntryPoint\",\"urlTemplate\":\"https:\\/\\/www.books.com.tw\\/products\\/0010881161\",\"actionPlatform\":[\"http:\\/\\/schema.org\\/DesktopWebPlatform\",\"http:\\/\\/schema.org\\/MobileWebPlatform\"]},\"expectsAcceptanceOf\":{\"@type\":\"Offer\",\"priceCurrency\":\"TWD\",\"price\":545,\"availability\":\"http:\\/\\/schema.org\\/InStock\"}}}},\"publisher\":[{\"@type\":\"Organization\",\"name\":\"\\u6df1\\u667a\\u6578\\u4f4d\"}],\"numberOfPages\":\"368\"}</script>\n",
            "</head>\n",
            "<body class=\"color_books type02\" >\n",
            "<script type=\"text/javascript\" src=\"https://www.books.com.tw/webs/header_js/pmenu/html/menu_compon.js?v=2df152e33ec64305dbecc491251f0a78\"></script>\n",
            "<div class=\"overlay\" id=\"div_language_overlay\" style=\"display:none\" onclick=\"hide_lang_panel();\"></div>\n",
            "<div class=\"pop_win change_language_win\" id=\"div_language_win\" style=\"display:none\">\n",
            "<h3>選擇語言<a href=\"javascript:;\" class=\"btn-close\" onclick=\"hide_lang_panel();\"></a></h3>\n",
            "<div>\n",
            "<ul>\n",
            "<li id=\"header_li_change_lang_en\"><a class=\"btn\" href=\"javascript:;\" onclick=\"change_lang('en');\">English</a></li>\n",
            "<li id=\"header_li_change_lang_zh_TW\"><a class=\"btn\" href=\"javascript:;\" onclick=\"change_lang('zh_TW');\">繁體中文</a></li>\n",
            "<li id=\"header_li_change_lang_zh_CN\"><a class=\"btn\" href=\"javascript:;\" onclick=\"change_lang('zh_CN');\">简体中文</a></li>\n",
            "</ul>\n",
            "</div></div><header id=\"header_full_v2\" data-attr=\"books\" class=\"header_v2\">\n",
            "<nav class=\"fix__box clearfix\">\n",
            "<div class=\"header__box1 clearfix\">\n",
            "<h2 class=\"hide\">:::相關網站</h2>\n",
            "<div class=\"website_nav_wrap\">\n",
            "<ul class=\"website__nav\">\n",
            "<li><a href=\"https://www.books.com.tw/?loc=tw_website_001\"><i class=\"svg-icon-home\"></i>回首頁</a></li>\n",
            "<li><a href=\"https://tickets.books.com.tw/index/?loc=tw_website_003\">售票網</a></li>\n",
            "<li><a href=\"https://group.books.com.tw/?loc=tw_website_004\">企業採購</a></li>\n",
            "<li><a href=\"https://www.books.com.tw/benefit/?loc=tw_website_005\">福利平台</a></li>\n",
            "<li><a href=\"https://www.books.com.tw/web/ovs/?loc=tw_website_006\">海外專館</a></li>\n",
            "</ul>\n",
            "</div><div class=\"service_nav_wrap\">\n",
            "<h2 class=\"hide\"><a accesskey=\"U\" href=\"#accesskey_service_nav\" title=\"上方導覽區塊:會員服務|快速功能\" id=\"accesskey_service_nav\">:::會員服務|快速功能</a></h2>\n",
            "<ul class=\"service__nav\">\n",
            "<li class=\"logout li_label_member_login user_login\">\n",
            "<a href=\"javascript:void(0);\" onclick=\"location.href='https://cart.books.com.tw/member/login?loc=customer_003&url=' + encodeURIComponent(window.location.href);\"><i class=\"svg-icon-user\"></i><span class='member_class_cname'>會員登入</span></a>\n",
            "<div class=\"user_info_tip_box\" style=\"display:none;\">\n",
            "<div class=\"member\">\n",
            "<i class=\"icon-svg-graded-g\"></i>\n",
            "<ul class=\"record\">\n",
            "<li class='member_class_cname'>黃金會員</li>\n",
            "</ul>\n",
            "</div><div class=\"list_box\">\n",
            "<ul class=\"list\">\n",
            "<li><a href=\"https://myaccount.books.com.tw/myaccount/myaccount/index/\">前往會員專區</a></li>\n",
            "<li><a href=\"https://viewer-ebook.books.com.tw/viewer/index.html?readlist=all&MemberLogout=true\">我的電子書櫃</a></li>\n",
            "<li><a href=\"https://myaccount.books.com.tw/myaccount/myaccount/getOrder/\">訂單查詢</a></li>\n",
            "<li><a href=\"https://www.books.com.tw/web/sys_browseitems/\">瀏覽記錄</a></li>\n",
            "<li><a href=\"https://myaccount.books.com.tw/myaccount/myaccount/nextbuylist/\">下次再買</a></li>\n",
            "<li><a href=\"https://myaccount.books.com.tw/myaccount/myaccount/getReorder\">可訂購時通知</a></li>\n",
            "</ul>\n",
            "<ul class=\"list mycoupons\">\n",
            "<li><a href=\"https://activity.books.com.tw/memday/\">本月獨享</a></li>\n",
            "<li><a href=\"https://myaccount.books.com.tw/myaccount/myaccount/getPercentcouponlist?loc=tw_customer_coupon\">可用E-Coupon<span class=\"number\" id=\"my_ecoupon_count\">0</span>&nbsp;張</a></li>\n",
            "<li><a href=\"https://myaccount.books.com.tw/myaccount/myaccount/getPercentIcouponlist?loc=tw_customer_icoupon\">可用單品折價券<span class=\"number\" id=\"my_icoupon_count\">0</span>&nbsp;張</a></li>\n",
            "<li><a href=\"https://myaccount.books.com.tw/myaccount/myaccount/getShoppingmoneylist?loc=tw_customer_005\">可用購物金<span class=\"number\" id=\"shopping_cash\">0</span>&nbsp;元</a></li>\n",
            "<li><a href=\"https://myaccount.books.com.tw/myaccount/myaccount/getPointExchangeView/\">可用 OPEN POINT<span id=\"open_opint_num\">0</em></span>&nbsp;點</a></li>\n",
            "</ul>\n",
            "<a href=\"https://cart.books.com.tw/member/logout?loc=customer_004\"><button type=\"button\" class=\"sign_out\">登出</button></a>\n",
            "</div></div></li>\n",
            "<li><a href=\"https://myaccount.books.com.tw/myaccount/myaccount/getOrder/?loc=tw_customer_order\">訂單查詢</a></li>\n",
            "<li class=\"shopping\">\n",
            "<a href=\"https://db.books.com.tw/shopping/cart_list.php?loc=tw_customer_001\">購物車(<span id=\"shopping_cart_num\">0</span>)</a>\n",
            "</li>\n",
            "<li><a href=\"https://viewer-ebook.books.com.tw/viewer/index.html?readlist=all&MemberLogout=true\">電子書櫃</a></li>\n",
            "<li onclick=\"show_lang_panel();\"><a href=\"javascript:;\" class=\"modalBtn\"><i class=\"svg-icon-globe\"></i><span id=\"header_a_lang_title\">繁體</span></a></li>\n",
            "</ul>\n",
            "</div></div></nav>\n",
            "<div class=\"header_pop\" style=\"background:#4e4e4e\">\n",
            "<span class=\"bg_left\" style=\"background:#12AE57\"></span>\n",
            "<span class=\"bg_right\" style=\"background:#12AE57\"></span>\n",
            "<div class=\"flash_pic\" style=\"background-image:url(https://im1.book.com.tw/image/getImage?i=https://addons.books.com.tw/G/ADbanner/fashion/h/2023/02/0211s23_192070.jpg&v=63e4afd0k&w=1920&h=70)\">\n",
            "<a class=\"activity\" href=\"https://activity.books.com.tw/crosscat/show/A00000047571/?loc=topbanner_001\" title=\"\" ><span class=\"hide\"></span></a>\n",
            "<a class=\"open\"  href=\"javascript:;\" title=\"\" id=\"open_top_banner\"><span>展開廣告</span><i></i></a>\n",
            "<input type=\"hidden\" id=\"tbanner_data\" data-skey =\"0\" data-okey=\"330540\" data-preview =\"\" data-sec =\"8\">\n",
            "</div><div class=\"flash_pic_pop\" style=\"display:none;\">\n",
            "<a class=\"close\" href=\"javascript:;\" title=\"關閉廣告\" aria-label=\"關閉廣告\" id=\"close_top_banner\"><span>關閉廣告</span><i></i></a>\n",
            "<a class=\"activity\" href=\"https://activity.books.com.tw/crosscat/show/A00000047571/?loc=topbanner_001\" title=\"\" ><span class=\"hide\"></span>\n",
            "<img src=\"https://im2.book.com.tw/image/getImage?i=https://addons.books.com.tw/G/ADbanner/fashion/h/2023/02/0211s23_1200655.jpg&v=63e4c239k&w=1200&h=\" alt=\"上稿標題文案\">\n",
            "</a>\n",
            "</div></div><div class=\"header_box2 clearfix\">\n",
            "<div class=\"logo\">\n",
            "<a href=\"https://www.books.com.tw?loc=tw_logo_001\" title=\"回博客來首頁\" aria-label=\"回博客來首頁\">\n",
            "<img src=\"//im1.book.com.tw/image/getImage?i=https://addons.books.com.tw/G/ADbanner/marketing/2023/books_logo_185x52_0206.jpg&v=63e06284\" alt=\"博客來\">\n",
            "</a>\n",
            "</div><div class=\"hot_key_words clearfix\">\n",
            "<strong>HOT</strong>\n",
            "<a class=\"item\" href=\"https://activity.books.com.tw/crosscat/show/A00000023637?loc=hot_001\">開學再88折</a>\n",
            "<a class=\"item\" href=\"https://activity.books.com.tw/crosscat/show/A00000057749?loc=hot_002\">想見你</a>\n",
            "<a class=\"item\" href=\"https://www.books.com.tw/products/0010949186?loc=hot_003\">悲情城市</a>\n",
            "<a class=\"item\" href=\"https://www.books.com.tw/products/0010938207?loc=hot_004\">可避免的戰爭</a>\n",
            "</div><div class=\"search_box clearfix\">\n",
            "<h2 class=\"hide\"><a title=\"網站搜尋\" id=\"accesskey_search\" href=\"#accesskey_search\">:::網站搜尋</a></h2>\n",
            "<form action=\"https://search.books.com.tw/search/query/\" name=\"search\" id=\"search\"  method=\"GET\" onsubmit=\"if(typeof go_search == 'function'){go_search();return false;}\">\n",
            "<input type=\"hidden\" name=\"fclick\" id=\"search_fclick\" value=\"0\" data-fkey=\"\">\n",
            "<div class=\"search_wrap\">\n",
            "<div class=\"select_set\" id='select_set'>\n",
            "<button type=\"button\" class=\"toggle_btn\" data-js=\"select-collapse\"><span id=\"search_name\" >全部</span><i></i></button>\n",
            "</div><input type=\"search\" class=\"search_key\" accesskey=\"S\" name=\"key\" id=\"key\" value=\"\" message =\"請輸入關鍵字\" autocomplete=\"off\" placeholder=\"請輸入關鍵字\" >\n",
            "<input type=\"hidden\" name=\"cat\" id=\"cat\" value =\"all\">\n",
            "<input type=\"hidden\" name=\"qsub\" id=\"qsub\" value =\"\">\n",
            "<button class=\"search_btn\" type=\"submit\" title=\"搜尋\">\n",
            "<svg width=\"24\" height=\"25\" viewBox=\"0 0 24 25\" fill=\"none\" xmlns=\"http://www.w3.org/2000/svg\">\n",
            "<circle cx=\"10.76\" cy=\"11.26\" r=\"8.11\" stroke=\"#fff\" stroke-width=\"1.3\"></circle>\n",
            "<rect width=\"2.20667\" height=\"7.13156\" rx=\"1.10334\" transform=\"matrix(0.692391 -0.721523 0.692391 0.721523 15.7273 17.3545)\" fill=\"#fff\"></rect>\n",
            "</svg>\n",
            "</button>\n",
            "</div><ul class=\"search_select_ul search_popup\" role=\"group\" data-js=\"select-options\">\n",
            "<li><a href=\"javascript:;\" cat=\"all\" id=\"default_search_key\">全部</a></li>\n",
            "<li><a href=\"javascript:;\" cat=\"BKA\" >圖書</a></li>\n",
            "<li><a href=\"javascript:;\" cat=\"EBA\" >電子書</a></li>\n",
            "<li><a href=\"javascript:;\" cat=\"MDB\" >有聲書</a></li>\n",
            "<li><a href=\"javascript:;\" cat=\"ERT\" >訂閱</a></li>\n",
            "<li><a href=\"javascript:;\" cat=\"AVA\" >影音</a></li>\n",
            "<li><a href=\"javascript:;\" cat=\"DPA/qsub/K01\" >美妝</a></li>\n",
            "<li><a href=\"javascript:;\" cat=\"DPA/qsub/K14\" >保健</a></li>\n",
            "<li><a href=\"javascript:;\" cat=\"DPA/qsub/K03\" >服飾</a></li>\n",
            "<li><a href=\"javascript:;\" cat=\"DPA/qsub/K27\" >鞋包配件</a></li>\n",
            "<li><a href=\"javascript:;\" cat=\"DPA/qsub/K08\" >美食</a></li>\n",
            "<li><a href=\"javascript:;\" cat=\"DPA/qsub/K07\" >家居生活</a></li>\n",
            "<li><a href=\"javascript:;\" cat=\"DPA/qsub/K24\" >餐廚生活</a></li>\n",
            "<li><a href=\"javascript:;\" cat=\"DPA/qsub/K17\" >設計文具</a></li>\n",
            "<li><a href=\"javascript:;\" cat=\"DPA/qsub/K19\" >無印良品</a></li>\n",
            "<li><a href=\"javascript:;\" cat=\"DPA/qsub/K20\" >星巴克</a></li>\n",
            "<li><a href=\"javascript:;\" cat=\"DPA/qsub/K11\" >3C</a></li>\n",
            "<li><a href=\"javascript:;\" cat=\"DPA/qsub/K12\" >家電</a></li>\n",
            "<li><a href=\"javascript:;\" cat=\"DPA/qsub/K21\" >日用</a></li>\n",
            "<li><a href=\"javascript:;\" cat=\"DPA/qsub/K22\" >休閒生活</a></li>\n",
            "<li><a href=\"javascript:;\" cat=\"DPA/qsub/K23\" >婦幼生活</a></li>\n",
            "<li><a href=\"javascript:;\" cat=\"DPA/qsub/K25\" >電子票證</a></li>\n",
            "<li><a href=\"javascript:;\" cat=\"DPA/qsub/K29\" >寵物生活</a></li>\n",
            "<li><a href=\"javascript:;\" cat=\"DPA/qsub/K28\" >票券</a></li>\n",
            "<li><a href=\"javascript:;\" cat=\"DPA/qsub/K30\" >玲廊滿藝</a></li>\n",
            "<li><a href=\"javascript:;\" cat=\"DPA/qsub/K31\" >LinLi Boutique 林莉</a></li>\n",
            "<li><a href=\"javascript:;\" cat=\"MGA\" >雜誌</a></li>\n",
            "<li><a href=\"javascript:;\" cat=\"TKA\" >售票</a></li>\n",
            "<li><a href=\"javascript:;\" cat=\"OVS\" >海外專館</a></li>\n",
            "<li><a href=\"javascript:;\" cat=\"FST\" >快速到貨</a></li>\n",
            "<li><a href=\"javascript:;\" cat=\"GFC\" >禮物卡</a></li>\n",
            "</ul>\n",
            "</form>\n",
            "<ul id=\"search_words_ul\" class=\"search_words_ul\" style=\"display:none;\"></ul>\n",
            "</div><div class=\"figure_img\">\n",
            "<a href=\"https://activity.books.com.tw/crosscat/show/A00000057433/?loc=diamond_001\"><img src=\"https://im1.book.com.tw/image/getImage?i=https://addons.books.com.tw/G/ADbanner/marketing/2023/02/6000/13_320x72v3_4.png&v=63e612edk&w=320&h=72\" ></a>\n",
            "</div></div><div class=\"header_box3 clearfix\">\n",
            "<div class=\"service_msg\">\n",
            "<p><i class=\"svg-icon-horn\"></i>客服公告：反詐騙！提醒您「不碰ATM、網銀，不說信用卡資料」<span class=\"more\"><a href=\"https://www.books.com.tw/my_account/books_message1.html?loc=qainfo_001&loc=qainfo_001\">詳情</a></span></p></div>\n",
            "</div><div class=\"header_box4 clearfix\">\n",
            "<ul class=\"featured_activity\">\n",
            "<li><a href=\"https://www.books.com.tw/web/sys_hourstop/home/?loc=key_act_001\">\n",
            "                    全館即時榜      </a></li>\n",
            "<li><a href=\"https://www.books.com.tw/happybuy/?loc=key_act_002\">\n",
            "<img src=\"https://im1.book.com.tw/image/getImage?i=https://addons.books.com.tw/G/ADbanner/marketing/2022/homenew/Discount.png&v=636e293ck&w=24&h=24\" alt=\"天天爆殺\">\n",
            "                    天天爆殺      </a></li>\n",
            "<li><a href=\"https://activity.books.com.tw/books66/?loc=key_act_003\">\n",
            "<img src=\"https://im2.book.com.tw/image/getImage?i=https://addons.books.com.tw/G/ADbanner/marketing/2022/homenew/Books.png&v=636e293ck&w=24&h=24\" alt=\"今日66折\">\n",
            "                    今日66折      </a></li>\n",
            "<li><a href=\"https://myaccount.books.com.tw/myaccount/myaccount/memberReadMileage/?loc=key_act_004\">\n",
            "                    每日簽到      </a></li>\n",
            "<li><a href=\"https://www.books.com.tw/web/giftcard/?loc=key_act_005\">\n",
            "                    禮物卡      </a></li>\n",
            "<li><a href=\"https://activity.books.com.tw/coupondraw/coupon/?loc=key_act_006\">\n",
            "                    現領折價券      </a></li>\n",
            "</ul>\n",
            "<nav class=\"nav_wrap\" id='books_nav'>\n",
            "<div id=\"home\" class=\"menu_title dropdown \">\n",
            "<h2 class=\"title\" onclick=\"Hmenu('compon')\">全站分類  <i></i></h2>\n",
            "</div><div id='greenbar'>\n",
            "<div class=\"menu_bar\">\n",
            "<ul class=\"menu_bar_ul\">\n",
            "<li class=\"item\" data-key=\"1330\">品牌旗艦</li>\n",
            "<li class=\"item\" data-key=\"1292\">林莉婚紗</li>\n",
            "<li class=\"item\" data-key=\"1\">親子幼童</li>\n",
            "<li class=\"item\" data-key=\"3\">健康運動</li>\n",
            "<li class=\"item\" data-key=\"4\">家居日用</li>\n",
            "<li class=\"item\" data-key=\"5\">美妝個清</li>\n",
            "<li class=\"item\" data-key=\"6\">旅遊戶外</li>\n",
            "</ul>\n",
            "</div></div></nav>\n",
            "</div><div class=\"header_category books_nav\" id='home_menu_list' style=\"display:none\">\n",
            "<div class=\"category_bar\">\n",
            "<ul class=\"category_bar_ul\">\n",
            "<li id='flagship' class=\"item\" data-key=\"13\"><a href=\"JavaScript:;\">旗艦品牌</a>\n",
            "</li>\n",
            "<li class=\"item\" data-key=\"43\"><a href=\"https://www.books.com.tw/web/gallery/?loc=menu_1_001\">線上藝廊</a>．<a href=\"https://www.books.com.tw/web/flagship_S8500128101/?loc=menu_1_002\">婚紗</a>\n",
            "</li>\n",
            "<li class=\"item\" data-key=\"44\"><a href=\"https://www.books.com.tw/web/ebook?loc=menu_2_001\">電子書</a>．<a href=\"https://www.books.com.tw/web/audioandvideo?loc=menu_2_002\">有聲</a>．<a href=\"https://www.books.com.tw/web/rent?loc=menu_2_003\">訂閱</a>\n",
            "</li>\n",
            "<li class=\"item\" data-key=\"45\"><a href=\"https://www.books.com.tw/web/books/?loc=menu_3_001\">中文書</a>．<a href=\"https://www.books.com.tw/web/china?loc=menu_3_002\">簡體</a>．<a href=\"https://www.books.com.tw/web/fbooks?loc=menu_3_003\">外文</a>\n",
            "</li>\n",
            "<li class=\"item\" data-key=\"46\"><a href=\"https://www.books.com.tw/web/magazine?loc=menu_4_001\">雜誌</a>．<a href=\"https://www.books.com.tw/web/mook?loc=menu_4_002\">日文書</a>\n",
            "</li>\n",
            "<li class=\"item\" data-key=\"47\"><a href=\"https://www.books.com.tw/web/cd?loc=menu_5_001\">CD</a>．<a href=\"https://www.books.com.tw/web/dvd?loc=menu_5_002\">DVD</a>\n",
            "</li>\n",
            "<li class=\"item\" data-key=\"48\"><a href=\"https://www.books.com.tw/web/stationery?loc=menu_6_001\">文具</a>．<a href=\"https://www.books.com.tw/web/stationery_topm_15?loc=menu_6_002\">動漫</a>\n",
            "</li>\n",
            "<li class=\"item\" data-key=\"49\"><a href=\"https://www.books.com.tw/web/clean?loc=menu_7_001\">日用品</a>．<a href=\"https://www.books.com.tw/web/mammybaby?loc=menu_7_002\">婦幼玩具</a>\n",
            "</li>\n",
            "<li class=\"item\" data-key=\"50\"><a href=\"https://www.books.com.tw/web/cosmetic?loc=menu_8_001\">彩妝</a>．<a href=\"https://www.books.com.tw/web/cosmetic?loc=menu_8_002\">保養</a>．<a href=\"https://www.books.com.tw/web/cosmetic?loc=menu_8_003\">洗沐</a>\n",
            "</li>\n",
            "<li class=\"item\" data-key=\"51\"><a href=\"https://www.books.com.tw/web/shoes?loc=menu_9_001\">鞋包</a>．<a href=\"https://www.books.com.tw/web/shoes_topm_14?loc=menu_9_002\">黃金</a>．<a href=\"https://www.books.com.tw/web/fashion/?loc=menu_9_003\">服飾</a>\n",
            "</li>\n",
            "<li class=\"item\" data-key=\"52\"><a href=\"https://www.books.com.tw/web/3C?loc=menu_10_001\">3C</a>．<a href=\"https://www.books.com.tw/web/3C_topm_26?loc=menu_10_002\">手機</a>．<a href=\"https://www.books.com.tw/web/3C_topm_29?loc=menu_10_003\">電玩</a>\n",
            "</li>\n",
            "<li class=\"item\" data-key=\"53\"><a href=\"https://www.books.com.tw/web/fm?loc=menu_11_001\">家電</a>．<a href=\"https://www.books.com.tw/web/fm_topm_13?loc=menu_11_002\">視聽</a>\n",
            "</li>\n",
            "<li class=\"item\" data-key=\"54\"><a href=\"https://www.books.com.tw/web/food?loc=menu_12_001\">美食</a>．<a href=\"https://www.books.com.tw/web/food_topm_10?loc=menu_12_002\">生鮮</a>．<a href=\"https://www.books.com.tw/web/health?loc=menu_12_003\">保健</a>\n",
            "</li>\n",
            "<li class=\"item\" data-key=\"55\"><a href=\"https://www.books.com.tw/web/petlife?loc=menu_13_001\">寵物</a>．<a href=\"https://www.books.com.tw/web/design?loc=menu_13_002\">家居</a>．<a href=\"https://www.books.com.tw/web/kitchen?loc=menu_13_003\">餐廚</a>\n",
            "</li>\n",
            "<li class=\"item\" data-key=\"56\"><a href=\"https://www.books.com.tw/web/outdoors?loc=menu_14_001\">運動</a>．<a href=\"https://www.books.com.tw/web/outdoors_topm_01?loc=menu_14_002\">戶外</a>．<a href=\"https://www.books.com.tw/web/outdoors_topm_07?loc=menu_14_003\">旅用</a>\n",
            "</li>\n",
            "<li class=\"item\" data-key=\"57\"><a href=\"https://www.books.com.tw/web/giftcard/?loc=menu_15_001\">禮券</a>．<a href=\"https://www.books.com.tw/web/icash?loc=menu_15_002\">票證</a>．<a href=\"https://www.books.com.tw/web/ticket?loc=menu_15_003\">票券</a>\n",
            "</li>\n",
            "</ul>\n",
            "</div></div><nav class=\"header_box5 clearfix\">\n",
            "<h3 class=\"title\"><a href=\"https://www.books.com.tw/web/books/?loc=subject_main_001\">中文書</a><i></i></h3>\n",
            "<ul class=\"nav\"><li><a href=\"https://www.books.com.tw/web/books_newbook/?loc=subject_001\">新書</a></li>\n",
            "<li><a href=\"https://www.books.com.tw/web/sys_prebooks/books/?loc=subject_002\">預購</a></li>\n",
            "<li><a href=\"https://www.books.com.tw/web/sys_tdrntb/books/?loc=subject_003\">排行榜</a></li>\n",
            "<li><a href=\"https://www.books.com.tw/web/sys_selbooks/books/?loc=subject_004\">選書</a></li>\n",
            "<li><a href=\"https://www.books.com.tw/web/sys_compub/books/?loc=subject_005\">即將出版</a></li>\n",
            "<li><a href=\"https://www.books.com.tw/web/books_specbook/?loc=subject_006\">特價書</a></li>\n",
            "<li><a href=\"https://www.books.com.tw/web/store_hkbooks/?loc=subject_007\">香港出版</a></li>\n",
            "<li><a href=\"https://www.books.com.tw/web/books_review/?loc=subject_008\">讀者書評</a></li>\n",
            "<li><a href=\"https://www.books.com.tw/web/books_publist/?loc=subject_009\">出版社專區</a></li>\n",
            "<li><a href=\"https://www.books.com.tw/web/sys_sublistb/books/?loc=subject_010\">分類總覽</a></li>\n",
            "</ul>\n",
            "</nav>\n",
            "<div class=\"header_box7 clearfix\">\n",
            "<a href=\"https://activity.books.com.tw/crosscat/show/A00000057425?loc=mood_001\"><img src=\"https://im1.book.com.tw/image/getImage?i=https://addons.books.com.tw/G/ADbanner/2023/02/school/95040.jpg&v=63dfa681k&w=&h=\" alt=\"開學書展_領券\"></a>\n",
            "</div></div></header>\n",
            "</div><script>\n",
            "  if ($(window).scrollTop() > 150) { \r\n",
            "    $('#header_full_v2 .fix__box').addClass('active');\r\n",
            "    $('#header_full_v2 .header_box2').addClass('active');\r\n",
            "  }; \r\n",
            "  $(window).scroll(function () {      \r\n",
            "    if ($(window).scrollTop() > 150) {          \r\n",
            "    $('#header_full_v2 .fix__box').addClass('active');\r\n",
            "    $('#header_full_v2 .header_box2').addClass('active');\r\n",
            "    } else { \r\n",
            "      $('#header_full_v2 .fix__box').removeClass('active');      \r\n",
            "      $('#header_full_v2 .header_box2').removeClass('active');        \r\n",
            "    }\r\n",
            "  });\r\n",
            "</script>\n",
            "<div class=\"container_24 clearfix\">\n",
            "<div class=\"grid_24\">\n",
            "<div class='clearfix'>\n",
            "<ul id=\"breadcrumb-trail\" vocab=\"https://schema.org/\" typeof=\"BreadcrumbList\"  class='clearfix'>\n",
            "<li property='itemListElement' typeof='ListItem'><a property='item' typeof='WebPage' href='https://www.books.com.tw/'>博客來</a><meta property='name' content='博客來'><meta property='position' content='1'></li><li property='itemListElement' typeof='ListItem'><a property='item' typeof='WebPage' href='https://www.books.com.tw/web/books/'>中文書</a><meta property='name' content='中文書'><meta property='position' content='2'></li><li property='itemListElement' typeof='ListItem'><a property='item' typeof='WebPage' href='https://www.books.com.tw/web/books_topm_19/'>電腦資訊</a><meta property='name' content='電腦資訊'><meta property='position' content='3'></li><li property='itemListElement' typeof='ListItem'><a property='item' typeof='WebPage' href='https://www.books.com.tw/web/books_bmidm_1905/'>程式設計/APP開發</a><meta property='name' content='程式設計/APP開發'><meta property='position' content='4'></li><li property='itemListElement' typeof='ListItem'><a property='item' typeof='WebPage' href='https://www.books.com.tw/web/sys_bbotm/books/190504/'>Python</a><meta property='name' content='Python'><meta property='position' content='5'></li><li class='last' property='itemListElement' typeof='ListItem'>商品介紹<meta property='name' content='商品介紹'><meta property='position' content='6'></li></ul>\n",
            "</div></div></div><div class=\"container_24 main_wrap clearfix\">\n",
            "<div class=\"grid_24 main_column\">\n",
            "<div class=\"mod type02_p01_wrap clearfix\">\n",
            "<div class=\"grid_9 alpha\">\n",
            "<script type=\"text/javascript\" src=\"//www.books.com.tw/jss/jquery/plugin/tools.js\"></script>\n",
            "<script type=\"text/javascript\" src=\"//www.books.com.tw/jss/jquery/plugin/jqModal_fix.js\"></script>\n",
            "<script type=\"text/javascript\" src=\"//www.books.com.tw/jss/web/img_zoomer.js\"></script>\n",
            "<div class=\"mod cnt_prod_img001 nolazyload_img clearfix\">\n",
            "<div class=\"cnt_mod002 cover_img\" id=\"M201106_0_getTakelook_P00a400020052\">\n",
            "<ul>\n",
            "<span ></span></ul>\n",
            "<ul class=\"looks\" >\n",
            "<li class=\"icon_pic\"  title=\"看大圖\"><a href=\"https://www.books.com.tw/takelook/showPic/0010881161\" class=\"thickbox\">看大圖</a></li></ul>\n",
            "<img class=\"cover M201106_0_getTakelook_P00a400020052_image_wrap\" src=\"https://im2.book.com.tw/image/getImage?i=https://www.books.com.tw/img/001/088/11/0010881161.jpg&v=5ff6e2b0k&w=348&h=348\" alt=\"股票發大財：用Python預測玩轉股市高手精解\"  >\n",
            "</div><div class=\"cnt_mod003\" id=\"container\">\n",
            "<div class=\"each_wrap\" id=\"thumbnail\">\n",
            "<div class=\"eh_switcher eh_swleft\"><a  title=\"!上頁\" class=\"prev browse left\"><span>!上頁</span></a></div>\n",
            "<div class=\"eh_switcher eh_swright\"><a  title=\"下頁\" class=\"next browse right\"><span>下頁</span></a></div>\n",
            "<div class=\"each_box M201106_0_getTakelook_P00a400020052_scroll\" >\n",
            "<div class=\"items\" style=\"overflow:hidden;width:9999em;position:absolute;*top:0;*left:0;\"><ul class=\"li_box M201106_0_getTakelook_P00a400020052_item\" style=\"float:left;\"><li class='first'><img src='https://im2.book.com.tw/image/getImage?i=https://www.books.com.tw/img/001/088/11/0010881161.jpg&v=5ff6e2b0k&w=348&h=348'></li><li ><img src='https://im2.book.com.tw/image/getImage?i=https://www.books.com.tw/img/001/088/11/0010881161_bc_01.jpg&v=5ff6f121k&w=348&h=348'></li><li ><img src='https://im2.book.com.tw/image/getImage?i=https://www.books.com.tw/img/001/088/11/0010881161_b_01.jpg&v=5ff6f13ek&w=348&h=348'></li><li ><img src='https://im1.book.com.tw/image/getImage?i=https://www.books.com.tw/img/001/088/11/0010881161_b_02.jpg&v=5ff6f13ak&w=348&h=348'></li><li class='last'><img src='https://im2.book.com.tw/image/getImage?i=https://www.books.com.tw/img/001/088/11/0010881161_b_03.jpg&v=5ff6f13ek&w=348&h=348'></li></ul><ul class=\"li_box M201106_0_getTakelook_P00a400020052_item\" style=\"float:left;\"><li class='first'><img src='https://im1.book.com.tw/image/getImage?i=https://www.books.com.tw/img/001/088/11/0010881161_b_04.jpg&v=5ff6f13dk&w=348&h=348'></li><li ><img src='https://im2.book.com.tw/image/getImage?i=https://www.books.com.tw/img/001/088/11/0010881161_b_05.jpg&v=5ff6f13ek&w=348&h=348'></li><li ><img src='https://im1.book.com.tw/image/getImage?i=https://www.books.com.tw/img/001/088/11/0010881161_b_06.jpg&v=5ff6f13fk&w=348&h=348'></li><li ><img src='https://im2.book.com.tw/image/getImage?i=https://www.books.com.tw/img/001/088/11/0010881161_b_07.jpg&v=5ff6f13bk&w=348&h=348'></li><li class='last'><img src='https://im1.book.com.tw/image/getImage?i=https://www.books.com.tw/img/001/088/11/0010881161_b_08.jpg&v=5ff6f13dk&w=348&h=348'></li></ul><ul class=\"li_box M201106_0_getTakelook_P00a400020052_item\" style=\"float:left;\"><li class='first'><img src='https://im2.book.com.tw/image/getImage?i=https://www.books.com.tw/img/001/088/11/0010881161_b_09.jpg&v=5ff6f138k&w=348&h=348'></li><li ><img src='https://im1.book.com.tw/image/getImage?i=https://www.books.com.tw/img/001/088/11/0010881161_b_10.jpg&v=5ff6f137k&w=348&h=348'></li><li ><img src='https://im2.book.com.tw/image/getImage?i=https://www.books.com.tw/img/001/088/11/0010881161_b_11.jpg&v=5ff6f136k&w=348&h=348'></li><li ><img src='https://im1.book.com.tw/image/getImage?i=https://www.books.com.tw/img/001/088/11/0010881161_b_12.jpg&v=5ff6f13ek&w=348&h=348'></li><li class='last'><img src='https://im2.book.com.tw/image/getImage?i=https://www.books.com.tw/img/001/088/11/0010881161_b_13.jpg&v=5ff6f13bk&w=348&h=348'></li></ul><ul class=\"li_box M201106_0_getTakelook_P00a400020052_item\" style=\"float:left;\"><li class='first'><img src='https://im1.book.com.tw/image/getImage?i=https://www.books.com.tw/img/001/088/11/0010881161_b_14.jpg&v=5ff6f13dk&w=348&h=348'></li><li ><img src='https://im2.book.com.tw/image/getImage?i=https://www.books.com.tw/img/001/088/11/0010881161_b_15.jpg&v=5ff6f138k&w=348&h=348'></li><li class='last'><img src='https://im2.book.com.tw/image/getImage?i=https://www.books.com.tw/img/001/088/11/0010881161_bf_01.jpg&v=5ff6f123k&w=348&h=348'></li></ul></div>\n",
            "</div></div></div></div>\n",
            "<script type=\"text/javascript\">\n",
            "$(document).ready(function() {\r\n",
            "    var opt_module_id = \"M201106_0_getTakelook_P00a400020052\";\r\n",
            "    var M201106_0_getTakelook_P00a400020052 = new Overlay(opt_module_id);\r\n",
            "    var M201106_0_getTakelook_P00a400020052zommer = new img_zoomer(opt_module_id);\r\n",
            " \r\n",
            "});\r\n",
            "</script>\n",
            "<div class=\"mod clearfix\">\n",
            "<cite class='type02_p001'><a href='#P00a400020053' title='主題活動' id='' ><span class='icon_02'>主題活動</span></a></cite>\n",
            "<cite class='type02_p001'><a href='https://appapi-ebook.books.com.tw/V1.7/CMSAPIApp/item/0010881161/trial' title='試閱' id='click_M201105_0_getIconData_P00a400020051' target='_blank'><span class='icon_04'>試閱</span></a></cite>\n",
            "</div><script type=\"text/javascript\">\n",
            "$(\"#click_M201105_0_getIconData_P00a400020051\").bind(\"click\", function(){\r\n",
            "    var opt_module_id = \"M201105_0_getIconData_P00a400020051\";//模組編碼參數\r\n",
            "    var opt = new Array(3);//參數資料變數\r\n",
            "    opt[1] = new Array();\r\n",
            "    opt[0] = \"setClickQtyAjax\";//class name\r\n",
            "    opt[1][0] = \"0010881161\";//item\r\n",
            "    opt[2] = \"M201105_029_view\";//template\r\n",
            "    ajax_product_show(opt_module_id,opt);dataLayer.push({'event':'SendEvent', 'eventCategory':'product', 'eventAction':'read-trial', 'eventLabel':'0010881161', 'eventValue':'1', 'eventNonInteraction':0});});\r\n",
            "</script></div>\n",
            "<div class=\"grid_10\">\n",
            "<div class=\"mod type02_p002 clearfix\">\n",
            "<h1>股票發大財：用Python預測玩轉股市高手精解</h1>\n",
            "<h2><a ></a></h2>\n",
            "</div><div class=\"mod type02_p011 clearfix\">\n",
            "<p class=\"title\">可購買版本<strong>(2)</strong>：</p>\n",
            "<ul>\n",
            "<li id=\"li_M201106_0_getEbkRitems_P00a400020119-0\" class='li_M201106_0_getEbkRitems_P00a400020119'>\n",
            "<a href=\"https://www.books.com.tw/products/E050150276\">\n",
            "<span>電子書</span>\n",
            "<span class=\"price\">優惠價<em>621</em>元</span>\n",
            "</a>\n",
            "</li><li id=\"li_M201106_0_getEbkRitems_P00a400020119-1\" class='li_M201106_0_getEbkRitems_P00a400020119 here'>\n",
            "<a href=\"https://www.books.com.tw/products/0010881161\">\n",
            "<span>平裝</span>\n",
            "<span class=\"price\">優惠價<em>545</em>元</span>\n",
            "</a>\n",
            "</li></ul>\n",
            "</div><div class=\"type02_p003 clearfix\">\n",
            "<ul><li>\n",
            "<div class=\"trace_box\" id=\"trace_box\" style=\"display:none;\">\n",
            "<span class=\"arrow\"></span>\n",
            "<div class=\"pop_trace\">\n",
            "<div class=\"list_raced\" id=\"edit_traced_area\" style=\"display:none;\">\n",
            "<h4>已追蹤作者：<strong class=\"edit\">[&nbsp;<a href=\"\" id=\"editTrace\">修改</a>&nbsp;]</strong></h4>\n",
            "<ul id=\"list_traced\"></ul>\n",
            "</div><ul class=\"list_trace\" id=\"list_trace\"></ul>\n",
            "<div class=\"trace_btn_wrap\">\n",
            "<a href=\"javascript:saveTrace();\" class=\"type02_btn09\">確定</a>\n",
            "<a href=\"javascript:cancelTrace();\" class=\"type02_btn09\">取消</a>\n",
            "</div></div></div>    作者：            <a href=\"//search.books.com.tw/search/query/key/%E8%83%A1%E6%9B%B8%E6%95%8F/adv_author/1/\">胡書敏</a>    &nbsp;<a id=\"trace_btn1\" class=\"type02_btn02\" href=\"\"><span><span class=\"trace_txt\">&nbsp;</span></span></a>\n",
            "<a href=\"//www.books.com.tw/activity/2015/06/trace/index.html#author\" title=\"新功能介紹\" target=\"_blank\"><cite class=\"help\">新功能介紹</cite></a></li><li>出版社：<a href=\"https://www.books.com.tw/web/sys_puballb/books/?pubid=deepmind        \"><span>深智數位</span></a>    &nbsp;<a id=\"trace_btn2\" class=\"type02_btn02\" href=\"\"><span><span class=\"trace_txt\">&nbsp;</span></span></a>\n",
            "<a href=\"//www.books.com.tw/activity/2015/06/trace/index.html#publisher\" title=\"新功能介紹\" target=\"_blank\"><cite class=\"help\">新功能介紹</cite></a></li><li>出版日期：2021/01/21</li><li>語言：繁體中文                                      </li></ul></div>\n",
            "<div id=\"M201105_0_getBkProdInfo_P00a400020084\" style=\"display:none;\"></div>\n",
            "<script type=\"text/javascript\">\n",
            "$(function(){\r\n",
            "    setFollow('initFollowAjax','胡書敏:deepmind'); //class name , author : pubid\r\n",
            "});\r\n",
            "function setFollow(c,ap){\r\n",
            "    var opt_module_id = 'M201105_0_getBkProdInfo_P00a400020084'; //模組編碼參數\r\n",
            "    var opt = new Array(3); //參數資料變數\r\n",
            "    opt[0] = c; //class name\r\n",
            "    opt[1] = new Array(3);\r\n",
            "    opt[1][0] = '0010881161:M201105_0_getBkProdInfo_P00a400020084:M201105_047_view'; //item : li_id : view\r\n",
            "    opt[1][1] = ap; //author : pubid\r\n",
            "    opt[1][2] = window.location.href; //url\r\n",
            "    opt[2] = 'M201105_047_view' //template\r\n",
            "    var M201105_0_getBkProdInfo_P00a400020084 = new ajax_product_show(opt_module_id,opt);\r\n",
            "}\r\n",
            "function saveTrace(){\r\n",
            "    var author='';\r\n",
            "    $('input[name=\"author\"]:checked').each(function(index){\r\n",
            "         author += ((index===0)?'':',') + $(this).val();\r\n",
            "    });\r\n",
            "    setFollow('setFollowAuthorAjax', author);\r\n",
            "    $('#trace_box').hide();\r\n",
            "}\r\n",
            "function cancelTrace(){\r\n",
            "    $('#trace_box').hide();\r\n",
            "}\r\n",
            " function editTrace(url){\r\n",
            "    window.open(url, '_blank');\r\n",
            "    $('#trace_box').hide();\r\n",
            "}\r\n",
            "</script>\n",
            "<div class=\"cnt_prod002 clearfix\">\n",
            "<div class=\"mod prd002\">\n",
            "<div class=\"prod_cont_b\">\n",
            "<ul class=\"price\">\n",
            "<li>定價：<em>690</em>元</li>\n",
            "<li>優惠價：<strong><b>79</b></strong>折<strong class=\"price01\"><b>545</b></strong>元</li><li>優惠期限：2023年03月31日止</li></ul>\n",
            "</div></div></div><script src=\"https://jci.book.com.tw/jss/books/icoupon_activity.js\"></script>\n",
            "<div class=\"cnt_prod002 clearfix\">\n",
            "<div class=\"mod prd011\">\n",
            "<div class=\"prod_cont_b\">\n",
            "<i class=\"coupon\"></i>折價券&nbsp;<a href=\"javascript:showMemberiCoupon();\" class=\"type02_btn13\" title=\"領取折價券\"><span><span class=\"trace_txt\">領取折價券</span></span></a>\n",
            "</div></div></div><div id=M201101_0_getMemberiCoupon_P00a400020135></div>\n",
            "<script type=\"text/javascript\">\n",
            "    function showMemberiCoupon(){\n",
            "        var opt_module_id = \"M201101_0_getMemberiCoupon_P00a400020135\";//模組編碼參數\n",
            "        var opt = new Array(3);//參數資料變數\n",
            "        opt[1] = new Array();\n",
            "        opt[0] = \"getMemberiCouponAjax\";//class name\n",
            "        opt[1][0] = \"0010881161\";//header_id\n",
            "        opt[2] = \"M201901_001_view\";//template\n",
            "        var M201101_0_getMemberiCoupon_P00a400020135 = new ajax_product_show(opt_module_id,opt);\n",
            "    }\n",
            "    function closeCoupon(){\n",
            "        $('.overlay.coupon').remove();\n",
            "    }\n",
            "</script><div class=\"cnt_prod002 clearfix\" id=\"M201105_0_getProdTransTypeInfo_P00a400020071\">\n",
            "<div class=\"prd_009 clearfix\">\n",
            "<div class=\"prod_cont_b\">\n",
            "<ul class='tag_003 tag_width07 clearfix'><li>運送方式：</li><li data-label='taiwan' class='here'><div class='arrow'>臺灣與離島</div></li><li data-label='oversea'><div class='arrow'>海外</div></li></ul>\n",
            "<ul data-area=\"taiwan\" class=\"delivery-info\"><li class='flex'><span class='title'><i class='icon-truck-1'></i>可配送點：</span><em class='scope'>台灣、蘭嶼、綠島、澎湖、金門、馬祖</em></li><li class='flex'><span class='title'><i class='svg-711'></i>可取貨點：</span><em class='scope'>台灣、蘭嶼、綠島、澎湖、金門、馬祖</em></li><li class='flex'><em class='scope'><i class='svg-fast-delivery'></i>台北、新北、基隆宅配快速到貨</em><em class='tooltip' title='不提供配送區域為新北市貢寮區、雙溪區、烏來區福山'>(除外地區)</em></li></ul>\n",
            "<ul data-area=\"oversea\" class=\"delivery-info\" style=\"display:none;\"><li class='flex'><span class='title'><i class='icon-truck-1'></i>可配送點：</span><em class='scope'>全球</em></li><li class='flex'><span class='title'><i class='svg-711'></i>可取貨點：</span><em class='scope'>香港、澳門、新加坡、馬來西亞、菲律賓</em></li></ul>\n",
            "</div></div><span class=\"hr_01\"></span>\n",
            "</div><script type=\"text/javascript\">\n",
            "$(document).ready(function(){\r\n",
            "   var opt_module_id = \"M201105_0_getProdTransTypeInfo_P00a400020071\";//模組編碼參數\r\n",
            "   var opt_element_id = \"P00a400020071\";  \r\n",
            "   var M201105_0_getProdTransTypeInfo_P00a400020071 = new switch_loaded_tab(opt_module_id,M201105_045);\r\n",
            "});\r\n",
            "</script></div>\n",
            "<div class=\"grid_5 omega\">\n",
            "<div class=\"mod clearfix\" id='M201105_0_getProdCartInfo_P00a400020037'>\n",
            "載入中...\r\n",
            "</div><script language=\"JavaScript\" type=\"text/javascript\" src=\"/jss/web/product.js?v=202201031\"></script>\n",
            "<script type=\"text/javascript\">\n",
            "$(document).ready(function(){               \r\n",
            "//$(window).load(function(){\r\n",
            "    getProdShoppingCartBtn();\r\n",
            "});\r\n",
            "function getProdShoppingCartBtn(){\r\n",
            "    var opt_module_id = \"M201105_0_getProdCartInfo_P00a400020037\";//模組編碼參數\r\n",
            "    var opt = new Array(3);//參數資料變數\r\n",
            "    opt[1] = new Array();\r\n",
            "    opt[0] = \"getProdCartInfoAjax\";//class name\r\n",
            "    opt[1][0] = \"0010881161\";//item    \r\n",
            "    opt[2] = \"M201105_032_view\"//template\r\n",
            "    var M201105_0_getProdCartInfo_P00a400020037 = new ajax_product_show(opt_module_id,opt);\r\n",
            "}\r\n",
            "</script>\n",
            "<div class=\"mod type02_p006 clearfix\">\n",
            "<div class=\"btn\">\n",
            "<a href=\"http://www.books.com.tw/prod_comment/comment_write/0010881161\" class=\"type02_btn02\" title=\"我要寫評鑑\"><span><span>我要寫評鑑</span></span></a>\n",
            "</div></div><div class=\"type02_p014\">\n",
            "<ul class=\"push-list\">\n",
            "<li class=\"title\">分享</li>\n",
            "<li id=\"push_facebook\"><i class=\"svg-logo-fb\" title=\"分享至Facebook\"></i></li>\n",
            "<li id=\"push_line\"><i class=\"svg-logo-line\" title=\"分享至LINE\"></i></li>\n",
            "<li id=\"push_copy\"><i class=\"svg-icon-link\" title=\"複製連結\" data-tooltip=\"已複製\"></i></li>\n",
            "</ul>\n",
            "<div class=\"like-button\">\n",
            "<span>\n",
            "<iframe scrolling=\"no\" frameborder=\"0\" allowtransparency=\"true\" style=\"width:85px; height:20px; vertical-align:middle;\" src=\"https://www.facebook.com/plugins/like.php?href=http%3A%2F%2Fwww.books.com.tw%2Fproducts%2F0010881161&amp;send=false&amp;locale=zh_TW&amp;layout=button_count&amp;width=85&amp;show_faces=false&amp;action=like&amp;colorscheme=light&amp;font=arial&amp;height=20\"></iframe>\n",
            "</span>\n",
            "</div></div><script language=\"JavaScript\">\n",
            "$(document).ready(function(){\r\n",
            "    var fb = new share_to_fb();\r\n",
            "})\r\n",
            "</script>\n",
            "<ul class=\"type02_p016 clearfix\">\n",
            "<li><a href=\"https://www.books.com.tw/web/bank_detail/cub/?v=1\" target=\"_blank\"><img src=\"//im1.book.com.tw/image/getImage?i=https://addons.books.com.tw/G/ADbanner/marketing/2023/01/bank/68_250x100.jpg&v=63ac1053\"   ></a></li>\n",
            "</ul>\n",
            "</div></div><div class=\"content-wrap\">\n",
            "<div id=\"ext_M201105_0_showBankEvents_P00a400020272\" class=\"type02_s020 clearfix\">\n",
            "<a class=\"switch swleft carousel-next\" href=\"javascript:void(0)\" style=\"z-index: 1;\"><span>上頁</span></a><a class=\"switch swright carousel-prev\" href=\"javascript:void(0)\" style=\"z-index: 1;\"><span>下頁</span></a><ul class=\"carousel-dots\"><li data-index=\"0\"></li><li data-index=\"1\"></li><li data-index=\"2\"></li><li data-index=\"3\"></li><li data-index=\"4\"></li></ul><div class=\"carousel-list\">\n",
            "<div class=\"carousel-inner\">\n",
            "<div class=\"carousel-flex\" data-view=\"4\">\n",
            "<div class=\"box clearfix\">\n",
            "<ul class=\"switch_inner\">\n",
            "<li>\n",
            "<a href=\"https://www.books.com.tw/web/bank_detail/cub/?v=1\" target=\"_blank\">\n",
            "<img src=\"https://addons.books.com.tw/G/ADbanner/marketing/2023/01/bank/262x100_2301_CA.png\" width=\"243\" height=\"93\" >\n",
            "</a>\n",
            "</li><li>\n",
            "<a href=\"https://activity.books.com.tw/crosscat/show/A00000056821/\" target=\"_blank\">\n",
            "<img src=\"https://addons.books.com.tw/G/ADbanner/marketing/2023/01/bank/262x100_2301_EZ.png\" width=\"243\" height=\"93\" >\n",
            "</a>\n",
            "</li><li>\n",
            "<a href=\"https://activity.books.com.tw/crosscat/show/A00000056071/\" target=\"_blank\">\n",
            "<img src=\"https://addons.books.com.tw/G/ADbanner/marketing/2023/01/bank/262x100_2301_AFTEE.png\" width=\"243\" height=\"93\" >\n",
            "</a>\n",
            "</li></ul>\n",
            "</div></div><div class=\"carousel-flex\" data-view=\"3\">\n",
            "<div class=\"box clearfix\">\n",
            "<ul class=\"switch_inner\">\n",
            "<li>\n",
            "<a href=\"https://www.books.com.tw/web/bank_detail/ctbc/?v=1\" target=\"_blank\">\n",
            "<img src=\"https://addons.books.com.tw/G/ADbanner/marketing/2023/02/bank/262x100_CTBC_2302.png\" width=\"243\" height=\"93\" >\n",
            "</a>\n",
            "</li><li>\n",
            "<a href=\"https://www.books.com.tw/web/bank_detail/icashPay/?v=2\" target=\"_blank\">\n",
            "<img src=\"https://addons.books.com.tw/G/ADbanner/marketing/2023/01/bank/262x100_2301_ICP.png\" width=\"243\" height=\"93\" >\n",
            "</a>\n",
            "</li><li>\n",
            "<a href=\"https://www.books.com.tw/web/bank_detail/citibank/?v=1\" target=\"_blank\">\n",
            "<img src=\"https://addons.books.com.tw/G/ADbanner/marketing/2022/02/bank/262x100_2202_07_CITI.png\" width=\"243\" height=\"93\" >\n",
            "</a>\n",
            "</li></ul>\n",
            "</div></div><div class=\"carousel-flex\" data-view=\"2\">\n",
            "<div class=\"box clearfix\">\n",
            "<ul class=\"switch_inner\">\n",
            "<li>\n",
            "<a href=\"https://www.books.com.tw/web/bank_detail/sinopac/?v=1\" target=\"_blank\">\n",
            "<img src=\"https://addons.books.com.tw/G/ADbanner/marketing/2023/02/bank/262x100_sino_2302.png\" width=\"243\" height=\"93\" >\n",
            "</a>\n",
            "</li><li>\n",
            "<a href=\"https://www.books.com.tw/web/bank_detail/ub/?v=1\" target=\"_blank\">\n",
            "<img src=\"https://addons.books.com.tw/G/ADbanner/marketing/2023/02/bank/262x100_UB_2302.png\" width=\"243\" height=\"93\" >\n",
            "</a>\n",
            "</li><li>\n",
            "<a href=\"https://www.books.com.tw/web/bank_detail/firstbank/?v=1\" target=\"_blank\">\n",
            "<img src=\"https://addons.books.com.tw/G/ADbanner/marketing/2022/08/bank/262x100_2208_first.png\" width=\"243\" height=\"93\" >\n",
            "</a>\n",
            "</li></ul>\n",
            "</div></div><div class=\"carousel-flex\" data-view=\"1\">\n",
            "<div class=\"box clearfix\">\n",
            "<ul class=\"switch_inner\">\n",
            "<li>\n",
            "<a href=\"https://www.books.com.tw/web/bank_detail/tcb_bank/?v=1\" target=\"_blank\">\n",
            "<img src=\"https://addons.books.com.tw/G/ADbanner/marketing/2022/09/bank/monthly/262x100_2209_TCB.png\" width=\"243\" height=\"93\" >\n",
            "</a>\n",
            "</li><li>\n",
            "<a href=\"https://www.books.com.tw/web/bank_detail/dbs/?v=1\" target=\"_blank\">\n",
            "<img src=\"https://addons.books.com.tw/G/ADbanner/marketing/2022/02/bank/262x100_2202_12_dbs.png\" width=\"243\" height=\"93\" >\n",
            "</a>\n",
            "</li><li>\n",
            "<a href=\"https://www.books.com.tw/web/bank_detail/feib/?v=1\" target=\"_blank\">\n",
            "<img src=\"https://addons.books.com.tw/G/ADbanner/marketing/2023/01/bank/262x100_2301_FE.png\" width=\"243\" height=\"93\" >\n",
            "</a>\n",
            "</li></ul>\n",
            "</div></div><div class=\"carousel-flex\" data-view=\"0\">\n",
            "<div class=\"box clearfix\">\n",
            "<ul class=\"switch_inner\">\n",
            "<li>\n",
            "<a href=\"https://www.books.com.tw/web/bank_detail/skbank/?v=1\" target=\"_blank\">\n",
            "<img src=\"https://addons.books.com.tw/G/ADbanner/marketing/2023/01/bank/262x100_2301_SK.png\" width=\"243\" height=\"93\" >\n",
            "</a>\n",
            "</li><li>\n",
            "<a href=\"https://www.books.com.tw/web/bank_detail/taishin/?v=1\" target=\"_blank\">\n",
            "<img src=\"https://addons.books.com.tw/G/ADbanner/marketing/2022/04/bank/262x100_2204_Taishin.png\" width=\"243\" height=\"93\" >\n",
            "</a>\n",
            "</li><li>\n",
            "<a href=\"https://www.books.com.tw/web/bank_detail/tfb/?v=1\" target=\"_blank\">\n",
            "<img src=\"https://addons.books.com.tw/G/ADbanner/marketing/2023/01/bank/262x100_2301_FU.png\" width=\"243\" height=\"93\" >\n",
            "</a>\n",
            "</li></ul>\n",
            "</div></div></div></div></div></div><script>$(function() {switchBankPageWide('ext_M201105_0_showBankEvents_P00a400020272', 'P'); });</script>\n",
            "<ul class=\"mod type02_s007 clearfix\">\n",
            "<li><a href=\"https://activity.books.com.tw/crosscat/show/A00000023637?loc=P_0064_001\"><img src=\"https://im1.book.com.tw/image/getImage?i=https://addons.books.com.tw/G/ADbanner/2023/02/sale88_95040.jpg&v=63e22445k&w=950&h=\" alt=\"滿599再88折\" ></a></li></ul>\n",
            "<div class=\"additionalProds clearfix\" id=\"M201101_0_getPkgTypeM_P00a400020260\">\n",
            "<div class=\"grid_24\">\n",
            "<div class=\"mod type02_s018 clearfix\">\n",
            "<h3 class=\"title\">加購推薦</h3>\n",
            "<div class=\"wrap\">\n",
            "<div class=\"select-product\">\n",
            "<div class=\"title-bar\">\n",
            "<p class=\"buyMessage\">(&nbsp;未選購加購品&nbsp;)</p><a href=\"javascript:void(0)\" class=\"toggle-btn\">明細<i></i></a>\n",
            "</div><div class=\"select-product-list-zero\" style=\"display:none\">\n",
            "<div class=\"msg-box\">\n",
            "<p style=\"text-align:center; margin-bottom: 15px\">目前無加購的商品</p>\n",
            "</div></div><div id=\"selectProductListDiv\" class=\"select-product-list\" style=\"display: none; overflow: auto\">\n",
            "<ul class=\"clearfix\" id=\"itemList\"></ul>\n",
            "</div><div class=\"selectProductBtnLeft\" style=\"display:none;\">\n",
            "<a class=\"switch swleft\" href=\"javascript:void(0)\"><span>上頁</span></a>\n",
            "</div><div class=\"selectProductBtnRight\" style=\"display:none;\">\n",
            "<a class=\"switch swright\" href=\"javascript:void(0)\"><span>下頁</span></a>\n",
            "</div></div></div><div class=\"more\" style=\"display: none\"><i class=\"p_more_i\"></i><a href=\"javascript:void(0)\" onclick=\"showMore()\">看更多加購推薦</a></div>\n",
            "</div></div></div><input type=\"hidden\" id=\"mainProdID\" value=\"0010881161\">\n",
            "<input type=\"hidden\" id=\"device\" value=\"P\">\n",
            "<input type=\"hidden\" id=\"viewPage\" value=\"M202101_075_view\">\n",
            "<input type=\"hidden\" id=\"liId\" value=\"M201101_0_getPkgTypeM_P00a400020260\">\n",
            "<input type=\"hidden\" id=\"type\" value=\"normal\">\n",
            "<div class=\"showMoreBlock\" id=\"showMoreBlock\" style=\"display: none\"></div>\n",
            "<div class=\"showMoreDetail\" id=\"showMoreDetail\" style=\"display: none\"></div>\n",
            "<div class=\"showProductDetail\" id=\"showProductDetail\" style=\"display: none\"></div>\n",
            "<link href=\"//www.books.com.tw/csss/pkgMproduct.css?v=1676067472.0616\" rel=\"stylesheet\" type=\"text/css\" media=\"all\">\n",
            "<script type=\"text/javascript\" src=\"//jci.book.com.tw/jss/books/browser/jquery.slimscroll.js\"></script>\n",
            "<script src=\"https://jci.book.com.tw/jss/leizongmin/js-xss/xss.min.js\"></script>\n",
            "<script type=\"text/javascript\" src=\"//www.books.com.tw/jss/web/pkgMproduct.js?v=1676067472.0616\"></script>\n",
            "<script type=\"text/javascript\" src=\"//www.books.com.tw/jss/web/switch_slide_prod.js\"></script>\n",
            "<div class=\"mod clearfix\">\n",
            "<div id=\"br_r0vq68ygz\"></div><script>var i=location.pathname.replace(/\\/products\\//gi,\"\");var v=Math.floor(Math.random()*Math.floor(2));$(\"#br_r0vq68ygz\").load(\"//www.books.com.tw/br/ra/br_r0vq68ygz?i=\"+i+\"&v=\"+v);</script>\n",
            "</div><div class=\"mod clearfix\">\n",
            "<div class=\"grid_19 alpha\">\n",
            "<div class=\"mod_b type02_m057 clearfix\">\n",
            "<a name=\"IntroP00a400020009\">&nbsp;</a>\n",
            "<h3>內容簡介</h3>\n",
            "<div class=\"bd\">\n",
            "<div class=\"content\" style=\"height:auto;\">\n",
            "<div style=\"text-align: center;\"><strong>預測股票之夢，雖遠但非遙不可及。<br>\n",
            "想成為股市贏家不是會看盤，而是要先會Python！<br>\n",
            "K線、均線自己畫，資料自己爬，賺錢一大把！</strong></div>\n",
            "<br>\n",
            "　　全書分為三篇：<br>\n",
            "<br>\n",
            "　　基礎篇（第1~4章）：說明Python開發環境的架設、基本語法、資料結構、程式的偵錯以及物件導向的程式設計思想。<br>\n",
            "<br>\n",
            "　　股票指標技術分析篇（第5~10章）：分別說明使用網路爬蟲技術取得股票資料、使用Matplotlib視覺化元件、基於NumPy和Pandas函數庫進行大數據分析、以股票的不同指標分析為範例的開發方法—MACD + Python資料庫程式設計、KDJ + Python圖形化使用者介面程式設計、RSI + Python郵件程式設計。<br>\n",
            "<br>\n",
            "　　以股票指標為基礎的交易策略之進階應用篇（第11~13章）：以股票的BIAS指標分析為範例說明Django架構、以股票的OBV指標分析為範例說明在Django中匯入記錄檔和資料庫元件、結合股票指標分析說明以線性回歸和SVM（支援向量機）為基礎的機器學習的入門知識。<br>\n",
            "<br>\n",
            "　　台股上看兩萬點，台積電領軍，看盤成為全民運動！茫茫股海，每天追大盤，玩個股，但心中就是不放心，資料這麼多，到底資訊在哪裏？股市都是數字，而資料及演算法，都必須靠一個程式語言串起來。Python正是你最好的朋友，上手簡單，功能強大，最重要的是，近來最強的機器學習也是Python的核心。這些都是玩轉股市的基本工具，本書針對Python零基礎的使用者，主要說明大量的股票指標技術分析的範例，由淺入深地介紹了使用Python語言程式設計開發的應用「圖譜」。<br>\n",
            " \r\n",
            "</div><div class=\"type02_gradient\" style=\"display:none;\"></div>\n",
            "</div></div><div class=\"mod_b type02_m057 clearfix\">\n",
            "<a name=\"AuthorP00a400020009\">&nbsp;</a>\n",
            "<h3>作者介紹</h3>\n",
            "<div class=\"bd\">\n",
            "<div class=\"content\" style=\"height:auto;\">\n",
            "<strong>作者簡介<br>\n",
            "<br>\n",
            "胡書敏</strong><br>\n",
            "<br>\n",
            "　　有五年資深架構師工作經驗，<br>\n",
            "　　出版過多本Java方面的書籍，<br>\n",
            "　　搭建過多個支付和數據分析方面的微服務架構。\r\n",
            "</div><div class=\"type02_gradient\" style=\"display:none;\"></div>\n",
            "</div></div><div class=\"mod_b type02_m057 clearfix\">\n",
            "<a name=\"CategoryP00a400020009\">&nbsp;</a>\n",
            "<h3>目錄</h3>\n",
            "<div class=\"bd\">\n",
            "<div class=\"content more_off\" id=\"M201105_0_getProdTextInfo_P00a400020009_h2\">\n",
            "<strong>第1 章 掌握實用的Python 語法</strong><br>\n",
            "1.1 安裝Python 開發環境<br>\n",
            "1.2 快速入門Python 語法<br>\n",
            "1.3 控制條件分支與循環呼叫<br>\n",
            "1.4 透過範例程式加深對Python 語法的認識<br>\n",
            "1.5 本章小結<br>\n",
            "<br>\n",
            "<strong>第2 章 Python 中的資料結構：集合物件</strong><br>\n",
            "2.1 串列和元組能儲存線性串列類型資料<br>\n",
            "2.2 集合可以去除重複元素<br>\n",
            "2.3 透過字典儲存「鍵- 值對」類型的資料<br>\n",
            "2.4 針對資料結構物件的常用操作<br>\n",
            "2.5 本章小結<br>\n",
            "<br>\n",
            "<strong>第3 章 Python 物件導向程式設計思想的實作</strong><br>\n",
            "3.1 把屬性和方法封裝成類別，方便重複使用<br>\n",
            "3.2 透過繼承擴充新的功能<br>\n",
            "3.3 多形是對功能的抽象<br>\n",
            "3.4 透過import 重複使用已有的功能<br>\n",
            "3.5 透過反覆運算器加深了解多形性<br>\n",
            "3.6 本章小結<br>\n",
            "<br>\n",
            "<strong>第4 章 異常處理與檔案讀寫</strong><br>\n",
            "4.1 異常不是語法錯誤<br>\n",
            "4.2 專案中異常處理的經驗談<br>\n",
            "4.3 透過IO 讀寫檔案<br>\n",
            "4.4 讀寫檔案的範例<br>\n",
            "4.5 本章小結<br>\n",
            "<br>\n",
            "<strong>第5 章 股市的常用知識與資料準備</strong><br>\n",
            "5.1 股票的基本常識<br>\n",
            "5.2 撰寫股票範例程式會用到的函數庫<br>\n",
            "5.3 透過爬取股市資料的範例程式來學習urllib 函數庫的用法<br>\n",
            "5.4 透過以股票資料為基礎的範例程式學習正規表示法<br>\n",
            "5.5 透過協力廠商函數庫收集股市資料<br>\n",
            "5.6 本章小結<br>\n",
            "<br>\n",
            "<strong>第6 章 透過Matplotlib 函數庫繪製K 線圖</strong><br>\n",
            "6.1 Matplotlib 函數庫的基礎用法<br>\n",
            "6.2 Matplotlib 圖形函數庫的常用技巧<br>\n",
            "6.3 繪製股市K 線圖<br>\n",
            "6.4 K 線對未來行情的預判<br>\n",
            "6.5 本章小結<br>\n",
            "<br>\n",
            "<strong>第7 章 繪製均線與成交量</strong><br>\n",
            "7.1 NumPy 函數庫的常見用法<br>\n",
            "7.2 Pandas 與分析處理資料<br>\n",
            "7.3 K 線整合均線<br>\n",
            "7.4 整合成交量圖<br>\n",
            "7.5 透過DataFrame 驗證均線的操作策略<br>\n",
            "7.6 量價理論<br>\n",
            "7.7 本章小結<br>\n",
            "<br>\n",
            "<strong>第8 章 資料庫操作與繪製MACD 線</strong><br>\n",
            "8.1 Python 連接MySQL 資料庫的準備工作<br>\n",
            "8.2 整合爬蟲模組和資料庫模組<br>\n",
            "8.3 繪製MACD 指標線<br>\n",
            "8.4 驗證以MACD 指標為基礎的買賣點<br>\n",
            "8.5 本章小結<br>\n",
            "<br>\n",
            "<strong>第9 章 以KDJ 範例程式學習GUI 程式設計</strong><br>\n",
            "9.1 Tkinter 的常用控制項<br>\n",
            "9.2 Tkinter 與Matplotlib 的整合<br>\n",
            "9.3 股票範例程式：繪製KDJ 指標<br>\n",
            "9.4 驗證以KDJ 指標為基礎的交易策略<br>\n",
            "9.5 本章小結<br>\n",
            "<br>\n",
            "<strong>第10 章 基於RSI 範例程式實現郵件功能</strong><br>\n",
            "10.1 實現發郵件的功能<br>\n",
            "10.2 以郵件的形式發送RSI 指標圖<br>\n",
            "10.3 以郵件的形式發送以RSI 指標為基礎的買賣點<br>\n",
            "10.4 本章小結<br>\n",
            "<br>\n",
            "<strong>第11 章 用BIAS 範例說明Django 架構</strong><br>\n",
            "11.1 以WSGI 標準為基礎的Web 程式設計<br>\n",
            "11.2 透過Django 架構開發Web 專案<br>\n",
            "11.3 繪製乖離率BIAS 指標<br>\n",
            "11.4 本章小結<br>\n",
            "<br>\n",
            "<strong>第12 章 以OBV 範例深入說明Django 架構</strong><br>\n",
            "12.1 在Django 架構內引用記錄檔<br>\n",
            "12.2 在Django 架構內引用資料庫<br>\n",
            "12.3 繪製OBV 指標圖<br>\n",
            "12.4 在Django 架構內整合記錄檔與資料庫<br>\n",
            "12.5 本章小結<br>\n",
            "<br>\n",
            "<strong>第13 章 以股票預測範例入門機器學習</strong><br>\n",
            "13.1 用線性回歸演算法預測股票<br>\n",
            "13.2 透過SVM 預測股票漲跌<br>\n",
            "13.3 本章小結<br>\n",
            "<br>\n",
            "<br>\n",
            " \r\n",
            "</div><div class=\"type02_gradient\" id=\"M201105_0_getProdTextInfo_P00a400020009_g2\" style=\"display:block;\"></div>\n",
            "</div><div class=\"ft\">\n",
            "<span><a href=\"javascript:;\" class=\"M201105_0_getProdTextInfo_P00a400020009 more on\" id=\"M201105_0_getProdTextInfo_P00a400020009_m2\">看更多</a></span>\n",
            "<!--<span><a href=\"javascript:;\" class=\"more off\" >收回</a></span>-->\n",
            "</div></div><div class=\"mod_b type02_m057 clearfix\">\n",
            "<a name=\"PrefaceP00a400020009\">&nbsp;</a>\n",
            "<h3>序</h3>\n",
            "<div class=\"bd\">\n",
            "<div class=\"content more_off\" id=\"M201105_0_getProdTextInfo_P00a400020009_h3\">\n",
            "<strong>前言</strong><br>\n",
            "<br>\n",
            "　　如果你對股票大數據分析有興趣，又想學習一種適合進行這種大數據分析的通用語言，那麼本書一定是不錯的選擇。<br>\n",
            "<br>\n",
            "　　從知識系統上來看，本書的內容涵蓋Python 專案開發所需的基礎知識，包含Python 基礎語法知識、以Pandas 為基礎的大數據分析技術、以Matplotlib 為基礎的視覺化程式設計技術、Python 爬蟲技術和以Django 為基礎的網路程式設計技術，在本書的最後章節，說明入門級的機器學習程式設計技術。<br>\n",
            "<br>\n",
            "　　本書的作者具有多年Python 的開發經驗，諳熟Python 進階開發所需要掌握的知識系統，也非常清楚從零基礎學Python 升級到應用程式開發可能會走的彎路，所以在本書的內容安排上：第一，對Python 零基礎人群說明必要的基礎知識；第二，在說明諸多基礎知識時都結合實際的範例程式；第三，在針對實際範例程式說明時，會見縫插針地說明從範例專案程式中提煉出來的開發經驗。<br>\n",
            "<br>\n",
            "　　本書的大多數範例程式以股票分析為基礎的技術指標，部分範例程式還結合了「機器學習」和「爬蟲」的使用。舉例來說，根據股票代碼爬取股票交易資料的範例程式來說明爬蟲技術和正規表示法，透過K 線均線和成交量圖的範例程式來說明Matplotlib 基礎知識，結合股票技術指標BIAS 和OBV 的範例程式來說明Django 架構，用股票走勢預測的範例程式來說明機器學習。在用股票分析的範例程式說明基礎知識的同時，還會列出驗證特定指標交易策略的範例程式原始程式碼。作者相信用這些饒有興趣的範例程式來學習Python，可以觸發讀者學習的興趣，也就不用擔心在學習過程中半途而廢。而且，本書的範例程式大多篇幅適中，對於進行課程設計或大學畢業設計的讀者，本書也非常適合作為參考用書。<br>\n",
            "<br>\n",
            "　　如果讀者對股票交易知之甚少，也不用擔心無法看懂本書中的股票分析範例程式，這是因為：<br>\n",
            "　　• 本書以通俗容易的文字說明相關股票指標的含義和演算法；<br>\n",
            "　　• 在列出待驗證的股票交易策略時，所用到的數學方法僅限於加減乘除；<br>\n",
            "　　• 在用股票預測範例程式說明機器學習時，計算方差用到的最複雜的數學公式只是二次函數，這是國中數學的知識。<br>\n",
            "<br>\n",
            "　　由於本書是結合股票分析的範例帶領讀者入門Python 語言，因此在讀完本書之後，大家不僅能掌握Python 開發所需的基礎知識，而且還能對股票技術指標乃至以股票指標為基礎的交易策略有一定的了解。<br>\n",
            "<br>\n",
            "　　為了讓本書的讀者能高效率地了解本書的範例和基礎知識，作者在撰寫本書時，處處留心、字字斟酌，將書中所有範例程式碼均按行編號，讀者在閱讀時能看到大量「某行的程式是×× 含義」這種說明，這樣做的目的是希望幫助讀者沒有遺漏地掌握各基礎知識的應用。再者，本書組織的文字裡，儘量避免艱深、晦澀的「技術行話」，而是用樸素的文字，由淺入深地說明Python 語言的應用要點。<br>\n",
            "<br>\n",
            "　　本書在撰寫過程中，獲得了成立明老師的大力支持，她負責了本書第2~7章的撰寫工作，在此表示誠摯的感謝。由於學識淺陋，書中難免有疏漏之處，敬請讀者批評指正。<br>\n",
            "<br>\n",
            "　　如果下載有問題，請電子郵件聯繫booksaga@126.com\r\n",
            "</div><div class=\"type02_gradient\" id=\"M201105_0_getProdTextInfo_P00a400020009_g3\" style=\"display:block;\"></div>\n",
            "</div><div class=\"ft\">\n",
            "<span><a href=\"javascript:;\" class=\"M201105_0_getProdTextInfo_P00a400020009 more on\" id=\"M201105_0_getProdTextInfo_P00a400020009_m3\">看更多</a></span>\n",
            "<!--<span><a href=\"javascript:;\" class=\"more off\">收回</a></span>-->\n",
            "</div></div><script type=\"text/javascript\">\n",
            "$(document).ready(function(){\r\n",
            "    var opt_module_id = \"M201105_0_getProdTextInfo_P00a400020009\";//模組編碼參數\r\n",
            "    var opt_element_id = \"P00a400020009\";\r\n",
            "    var M201105_0_getProdTextInfo_P00a400020009 = new more_on_off(opt_module_id,opt_element_id);\r\n",
            " });\r\n",
            "</script>\n",
            "<div class=\"mod_b type02_m058 clearfix\">\n",
            "<a name=\"P00a400020016\">&nbsp;</a>\n",
            "<h3>詳細資料</h3>\n",
            "<div class=\"bd\">\n",
            "<ul><li>ISBN：9789865501730</li><li>規格：平裝                                             / 368頁 / 17 x 23 x 1.8 cm / 普通級                                          / 單色印刷                                       / 初版</li><li>出版地：台灣                                            </li></ul>\n",
            "<ul class=\"sort\">\n",
            "<li>本書分類：<a href='https://www.books.com.tw/web/books_topm_19/'>電腦資訊</a>&gt; <a href='https://www.books.com.tw/web/books_bmidm_1905/'>程式設計/APP開發</a>&gt; <a href='https://www.books.com.tw/web/sys_bbotm/books/190504/'>Python</a></li>\n",
            "</ul>\n",
            "</div></div><div class=\"mod type02_m064 clearfix\">\n",
            "<a name=\"P00a400020053\">&nbsp;</a>\n",
            "<h3>主題活動</h3>\n",
            "<ul>\n",
            "<li><a href=\"//activity.books.com.tw/crosscat/show/A00000057604/1\">2023開學書展｜百萬大學生最愛5折起 ｜語言｜電腦｜人文社科｜商業｜各科延伸學習書</a></li>\n",
            "<li><a href=\"https://activity.books.com.tw/coupondraw/coupon/#ICO0007713\">2/9-2/22｜開學指定類別100元折價券</a></li>\n",
            "</ul>\n",
            "</div><div id=\"br_veqmfy3c\"></div><script>var i=location.pathname.replace(/\\/products\\//gi,\"\");var v=Math.floor(Math.random()*Math.floor(2));$(\"#br_veqmfy3c\").load(\"//www.books.com.tw/br/ra/br_veqmfy3c?i=\"+i+\"&v=\"+v);</script>\n",
            "<div class=\"mod type02_m065 clearfix\">\n",
            "<h3>最近瀏覽商品</h3><a name=\"P00a400020003\">&nbsp;</a>\n",
            "<div class=\"mod_no clearfix\" id=\"M201101_0_getBrowseItems_P00a400020003\">\n",
            "</div></div><script type=\"text/javascript\">\n",
            "$(document).ready(function(){\r\n",
            "    var opt_module_id = \"M201101_0_getBrowseItems_P00a400020003\";//模組編碼參數\r\n",
            "    var opt = new Array(3);//參數資料變數\r\n",
            "    opt[1] = new Array();\r\n",
            "    opt[0] = \"getBrowseItemsAjax\";//class name\r\n",
            "    opt[1][0] = \"M201101_0_getBrowseItems_P00a400020003\";//item\r\n",
            "    opt[2] = \"M201101_060_view?bnc=2jj9-kipeng7hn3\"//template\r\n",
            "    var M201101_0_getBrowseItems_P00a400020003 = new ajax_product_show(opt_module_id,opt);\r\n",
            "});\r\n",
            "</script>\n",
            "<div class=\"mod_a type02_m098 clearfix\">\n",
            "<h3>相關活動</h3>\n",
            "<ul>\n",
            "<li><a href=\"https://activity.books.com.tw/crosscat/show/A00000055785\"><img src=\"https://im1.book.com.tw/image/getImage?i=https://addons.books.com.tw/G/ADbanner/2022/12/exam_790250.jpg&v=638f09e7k&w=790&h=0\" alt=\"▴大忙人的上榜攻略▴N張證照入手，年度考試展7折起\" ></a></li>\n",
            "</ul></div>\n",
            "<div class=\"mod type02_m066 clearfix\">\n",
            "<a name=\"P00a400020002\">&nbsp;</a>\n",
            "<h3>購物說明</h3>\n",
            "<div class=\"bd\">\n",
            "<p><span style=\"white-space: normal; word-spacing: 0px; text-transform: none; float: none; color: rgb(38,38,38); text-align: justify; font: 13px/22px Arial, Helvetica, sans-serif, 新細明體; display: inline !important; letter-spacing: normal; background-color: rgb(255,255,255); text-indent: 0px; -webkit-text-stroke-width: 0px\">若您具有法人身份為常態性且大量購書者，或有特殊作業需求，建議您可洽詢「<a href=\"http://db.books.com.tw/gpts/qa2010/qaindex_2010.htm\" target=\"_self\">企業採購</a></span><span style=\"white-space: normal; word-spacing: 0px; text-transform: none; float: none; color: rgb(38,38,38); text-align: justify; font: 13px/22px Arial, Helvetica, sans-serif, 新細明體; display: inline !important; letter-spacing: normal; background-color: rgb(255,255,255); text-indent: 0px; -webkit-text-stroke-width: 0px\">」。<span class=\"Apple-converted-space\">&nbsp;</span></span><br style=\"white-space: normal; word-spacing: 0px; text-transform: none; color: rgb(38,38,38); text-align: justify; font: 13px/22px Arial, Helvetica, sans-serif, 新細明體; letter-spacing: normal; background-color: rgb(255,255,255); text-indent: 0px; -webkit-text-stroke-width: 0px\" />\n",
            "<br style=\"white-space: normal; word-spacing: 0px; text-transform: none; color: rgb(38,38,38); text-align: justify; font: 13px/22px Arial, Helvetica, sans-serif, 新細明體; letter-spacing: normal; background-color: rgb(255,255,255); text-indent: 0px; -webkit-text-stroke-width: 0px\" />\n",
            "<font color=\"#000080\" style=\"white-space: normal; word-spacing: 0px; text-transform: none; text-align: justify; font: 13px/22px Arial, Helvetica, sans-serif, 新細明體; letter-spacing: normal; background-color: rgb(255,255,255); text-indent: 0px; -webkit-text-stroke-width: 0px\"><b>退換貨說明</b></font><span style=\"white-space: normal; word-spacing: 0px; text-transform: none; float: none; color: rgb(38,38,38); text-align: justify; font: 13px/22px Arial, Helvetica, sans-serif, 新細明體; display: inline !important; letter-spacing: normal; background-color: rgb(255,255,255); text-indent: 0px; -webkit-text-stroke-width: 0px\"><span class=\"Apple-converted-space\">&nbsp;</span></span><br style=\"white-space: normal; word-spacing: 0px; text-transform: none; color: rgb(38,38,38); text-align: justify; font: 13px/22px Arial, Helvetica, sans-serif, 新細明體; letter-spacing: normal; background-color: rgb(255,255,255); text-indent: 0px; -webkit-text-stroke-width: 0px\" />\n",
            "<br style=\"white-space: normal; word-spacing: 0px; text-transform: none; color: rgb(38,38,38); text-align: justify; font: 13px/22px Arial, Helvetica, sans-serif, 新細明體; letter-spacing: normal; background-color: rgb(255,255,255); text-indent: 0px; -webkit-text-stroke-width: 0px\" />\n",
            "<span style=\"white-space: normal; word-spacing: 0px; text-transform: none; float: none; color: rgb(38,38,38); text-align: justify; font: 13px/22px Arial, Helvetica, sans-serif, 新細明體; display: inline !important; letter-spacing: normal; background-color: rgb(255,255,255); text-indent: 0px; -webkit-text-stroke-width: 0px\">會員所購買的商品均享有到貨十天的猶豫期（含例假日）。退回之商品必須於猶豫期內寄回。<span class=\"Apple-converted-space\">&nbsp;</span></span><br />\n",
            "<br />\n",
            "<b style=\"font-size: 13px; font-family: Arial, Helvetica, sans-serif, 新細明體; font-variant: normal; white-space: normal; word-spacing: 0px; text-transform: none; color: rgb(38,38,38); font-style: normal; text-align: justify; letter-spacing: normal; line-height: 22px; background-color: rgb(255,255,255); text-indent: 0px; -webkit-text-stroke-width: 0px\">辦理退換貨時，商品必須是全新狀態與完整包裝(請注意保持商品本體、配件、贈品、保證書、原廠包裝及所有附隨文件或資料的完整性，切勿缺漏任何配件或損毀原廠外盒)。退回商品無法回復原狀者，恐將影響退貨權益或需負擔部分費用。</b><span style=\"white-space: normal; word-spacing: 0px; text-transform: none; float: none; color: rgb(38,38,38); text-align: justify; font: 13px/22px Arial, Helvetica, sans-serif, 新細明體; display: inline !important; letter-spacing: normal; background-color: rgb(255,255,255); text-indent: 0px; -webkit-text-stroke-width: 0px\"><span class=\"Apple-converted-space\">&nbsp;</span></span><br style=\"white-space: normal; word-spacing: 0px; text-transform: none; color: rgb(38,38,38); text-align: justify; font: 13px/22px Arial, Helvetica, sans-serif, 新細明體; letter-spacing: normal; background-color: rgb(255,255,255); text-indent: 0px; -webkit-text-stroke-width: 0px\" />\n",
            "<br style=\"white-space: normal; word-spacing: 0px; text-transform: none; color: rgb(38,38,38); text-align: justify; font: 13px/22px Arial, Helvetica, sans-serif, 新細明體; letter-spacing: normal; background-color: rgb(255,255,255); text-indent: 0px; -webkit-text-stroke-width: 0px\" />\n",
            "<b style=\"font-size: 13px; font-family: Arial, Helvetica, sans-serif, 新細明體; font-variant: normal; white-space: normal; word-spacing: 0px; text-transform: none; color: rgb(38,38,38); font-style: normal; text-align: justify; letter-spacing: normal; line-height: 22px; background-color: rgb(255,255,255); text-indent: 0px; -webkit-text-stroke-width: 0px\">訂購本商品前請務必詳閱商品<a href=\"https://www.books.com.tw/web/sys_qalist/qa_36_87/0?loc=000_087\" style=\"text-decoration: underline; color: rgb(51,51,51); outline-width: medium; outline-style: none; outline-color: invert\">退換貨原則</a>。</b><span style=\"white-space: normal; word-spacing: 0px; text-transform: none; float: none; color: rgb(38,38,38); text-align: justify; font: 13px/22px Arial, Helvetica, sans-serif, 新細明體; display: inline !important; letter-spacing: normal; background-color: rgb(255,255,255); text-indent: 0px; -webkit-text-stroke-width: 0px\"><span class=\"Apple-converted-space\">&nbsp;</span></span></p>\n",
            "</div></div></div>\n",
            "<div class=\"grid_5 omega\">\n",
            "<div class=\"mod_b type02_m055 clearfix\">\n",
            "<ul>\n",
            "<li><a href=\"https://activity.books.com.tw/crosscat/show/A00000056126?loc=P_0033_001\"><img alt=\"國中小參考書\" src=\"https://im1.book.com.tw/image/getImage?i=https://addons.books.com.tw/G/ADbanner/2022/12/opensch111_190x120.jpg&v=63983de2k&w=&h=\" ></a></li><li><a href=\"https://www.books.com.tw/web/exhibition?loc=P_0033_002\"><img alt=\"國際書展\" src=\"https://im1.book.com.tw/image/getImage?i=https://www.books.com.tw/G/ADbanner/2022/12/bookfair2023/190120.jpg&v=63abea7ak&w=&h=\" srcset=\"https://im1.book.com.tw/image/getImage?i=https://www.books.com.tw/G/ADbanner/2022/12/bookfair2023/190120.jpg&v=63abea7ak&w=0&h=0 2x,https://im1.book.com.tw/image/getImage?i=https://www.books.com.tw/G/ADbanner/2022/12/bookfair2023/190120.jpg&v=63abea7ak&w=0&h=0 3x\"></a></li><li><a href=\"https://activity.books.com.tw/crosscat/show/A00000057654?loc=P_0033_003\"><img alt=\"吃米飲茶\" src=\"https://im1.book.com.tw/image/getImage?i=https://addons.books.com.tw/G/ADbanner/2023/02/ricetea_190120.jpg&v=63db7abck&w=&h=\" srcset=\"https://im1.book.com.tw/image/getImage?i=https://addons.books.com.tw/G/ADbanner/2023/02/ricetea_190120.jpg&v=63db7abck&w=0&h=0 2x,https://im1.book.com.tw/image/getImage?i=https://addons.books.com.tw/G/ADbanner/2023/02/ricetea_190120.jpg&v=63db7abck&w=0&h=0 3x\"></a></li>\n",
            "</ul>\n",
            "</div><div id=\"br_60nq68yhb\"></div><script>var i=location.pathname.replace(/\\/products\\//gi,\"\");var v=Math.floor(Math.random()*Math.floor(2));$(\"#br_60nq68yhb\").load(\"//www.books.com.tw/br/ra/br_60nq68yhb?i=\"+i+\"&v=\"+v);</script>\n",
            "<div class=\"mod_b type02_m051 clearfix\">\n",
            "<h3>同類商品新上架</h3>\n",
            "<ul>\n",
            "<li class=\"first\">\n",
            "<em>1.</em><a href='https://www.books.com.tw/products/0010948682?loc=P_0022_001'><img class='cover' src='https://im1.book.com.tw/image/getImage?i=https://www.books.com.tw/img/001/094/86/0010948682.jpg&v=63c91c1ak&w=110&h=110' alt='背景の描繪方法：基礎知識到實際運用的技巧' srcset=\"https://im1.book.com.tw/image/getImage?i=https://www.books.com.tw/img/001/094/86/0010948682.jpg&v=63c91c1ak&w=220&h=220 2x,https://im1.book.com.tw/image/getImage?i=https://www.books.com.tw/img/001/094/86/0010948682.jpg&v=63c91c1ak&w=330&h=330 3x\"></a>\n",
            "<p><a  href=\"https://www.books.com.tw/products/0010948682?loc=P_0022_001\">背景の描繪方法：基礎知識到實際運用的技巧</a></p>\n",
            "</li><li >\n",
            "<em>2.</em>\n",
            "<p><a  href=\"https://www.books.com.tw/products/0010948685?loc=P_0022_002\">閃耀眼眸的畫法DELUXE：各種眼睛注入生命的絕技!</a></p>\n",
            "</li><li >\n",
            "<em>3.</em>\n",
            "<p><a  href=\"https://www.books.com.tw/products/0010948691?loc=P_0022_003\">電腦繪圖「人物塗色」最強百科：CLIP STUDIO PAINT PRO/EX 繪圖!書面解說與影片教學.學習68種優質上色技法</a></p>\n",
            "</li><li >\n",
            "<em>4.</em>\n",
            "<p><a  href=\"https://www.books.com.tw/products/0010948712?loc=P_0022_004\">利用繽紛流行色彩吸引目光的插畫技巧 「角色」的設計與畫法</a></p>\n",
            "</li><li >\n",
            "<em>5.</em>\n",
            "<p><a  href=\"https://www.books.com.tw/products/0010948532?loc=P_0022_005\">電玩遊戲互動敘事創作套書 (共三冊)：電玩遊戲腳本設計法+遊戲腳本教科書+屠龍互動敘事法</a></p>\n",
            "</li>\n",
            "</ul>\n",
            "</div><div class=\"mod_b type02_m051 clearfix\">\n",
            "<h3>本類新品熱銷</h3>\n",
            "<ul>\n",
            "<li class=\"first\">\n",
            "<em>1.</em><a href='https://www.books.com.tw/products/0010947562?loc=P_0021_001'><img class='cover' src='https://im1.book.com.tw/image/getImage?i=https://www.books.com.tw/img/001/094/75/0010947562.jpg&v=63bd3edek&w=110&h=110' alt='「新」SEO 超入門！打敗 AI、征服搜尋引擎，洞悉使用者需求的必備指南' srcset=\"https://im1.book.com.tw/image/getImage?i=https://www.books.com.tw/img/001/094/75/0010947562.jpg&v=63bd3edek&w=220&h=220 2x,https://im1.book.com.tw/image/getImage?i=https://www.books.com.tw/img/001/094/75/0010947562.jpg&v=63bd3edek&w=330&h=330 3x\"></a>\n",
            "<p><a  href=\"https://www.books.com.tw/products/0010947562?loc=P_0021_001\">「新」SEO 超入門！打敗 AI、征服搜尋引擎，洞悉使用者需求的必備指南</a></p>\n",
            "</li><li >\n",
            "<em>2.</em>\n",
            "<p><a  href=\"https://www.books.com.tw/products/0010944884?loc=P_0021_002\">室內設計製圖解剖：立面圖表現法</a></p>\n",
            "</li><li >\n",
            "<em>3.</em>\n",
            "<p><a  href=\"https://www.books.com.tw/products/0010945469?loc=P_0021_003\">人手一本的資安健診實作課：不是專家也能自己動手做！（Win10 / Win11適用）</a></p>\n",
            "</li><li >\n",
            "<em>4.</em>\n",
            "<p><a  href=\"https://www.books.com.tw/products/0010948084?loc=P_0021_004\">PHP8/MySQL網頁程式設計自學聖經(附範例/影音)</a></p>\n",
            "</li><li >\n",
            "<em>5.</em>\n",
            "<p><a  href=\"https://www.books.com.tw/products/0010943893?loc=P_0021_005\">Excel 儀表板與圖表設計 + Power BI 資料處理 (Excel 2019、2021適用)</a></p>\n",
            "</li>\n",
            "</ul>\n",
            "</div><div class=\"mod_b type02_m051 clearfix\">\n",
            "<h3>本類暢銷榜</h3>\n",
            "<ul>\n",
            "<li class=\"first\">\n",
            "<em>1.</em><a href='https://www.books.com.tw/products/0010937674?loc=P_0020_001'><img class='cover' src='https://im1.book.com.tw/image/getImage?i=https://www.books.com.tw/img/001/093/76/0010937674.jpg&v=633573aek&w=110&h=110' alt='演算法：圖解邏輯思維 + Python程式實作 王者歸來' srcset=\"https://im1.book.com.tw/image/getImage?i=https://www.books.com.tw/img/001/093/76/0010937674.jpg&v=633573aek&w=220&h=220 2x,https://im1.book.com.tw/image/getImage?i=https://www.books.com.tw/img/001/093/76/0010937674.jpg&v=633573aek&w=330&h=330 3x\"></a>\n",
            "<p><a  href=\"https://www.books.com.tw/products/0010937674?loc=P_0020_001\">演算法：圖解邏輯思維 + Python程式實作 王者歸來</a></p>\n",
            "</li><li >\n",
            "<em>2.</em>\n",
            "<p><a  href=\"https://www.books.com.tw/products/0010937907?loc=P_0020_002\">成功的敏捷產品管理：打造暢銷產品的祕訣</a></p>\n",
            "</li><li >\n",
            "<em>3.</em>\n",
            "<p><a  href=\"https://www.books.com.tw/products/0010938456?loc=P_0020_003\">Python ✕ Excel 高效率打造辦公室作業+數據分析自動化</a></p>\n",
            "</li><li >\n",
            "<em>4.</em>\n",
            "<p><a  href=\"https://www.books.com.tw/products/0010869590?loc=P_0020_004\">Python最強入門邁向頂尖高手之路：王者歸來(第二版)全彩版</a></p>\n",
            "</li><li >\n",
            "<em>5.</em>\n",
            "<p><a  href=\"https://www.books.com.tw/products/0010360466?loc=P_0020_005\">C語言教學手冊（四版）</a></p>\n",
            "</li>\n",
            "</ul>\n",
            "</div><div class=\"mod_b type02_m052 clearfix\">\n",
            "<h3>訂閱電子報</h3>\n",
            "  想獲得最新商品資訊，請訂閱<a href=\"http://www.books.com.tw/e-page/\">免費電子報</a>\n",
            "</div><div class=\"mod clearfix\">\n",
            "<script type='text/javascript'>\n",
            "  var googletag = googletag || {};\r\n",
            "  googletag.cmd = googletag.cmd || [];\r\n",
            "  (function() {\r\n",
            "    var gads = document.createElement('script');\r\n",
            "    gads.async = true;\r\n",
            "    gads.type = 'text/javascript';\r\n",
            "    var useSSL = 'https:' == document.location.protocol;\r\n",
            "    gads.src = (useSSL ? 'https:' : 'http:') +\r\n",
            "      '//www.googletagservices.com/tag/js/gpt.js';\r\n",
            "    var node = document.getElementsByTagName('script')[0];\r\n",
            "    node.parentNode.insertBefore(gads, node);\r\n",
            "  })();\r\n",
            "</script>\n",
            "<script type='text/javascript'>\n",
            "  googletag.cmd.push(function() {\r\n",
            "    googletag.defineSlot('/17812066/books_books_D_160x600_right', [160, 600], 'div-gpt-ad-1463731526790-0').addService(googletag.pubads());\r\n",
            "    googletag.pubads().enableSingleRequest();\r\n",
            "    googletag.pubads().collapseEmptyDivs();\r\n",
            "    googletag.enableServices();\r\n",
            "  });\r\n",
            "</script>\n",
            "<div id='div-gpt-ad-1463731526790-0' style='text-align: right'>\n",
            "<script type='text/javascript'>\n",
            "googletag.cmd.push(function() { googletag.display('div-gpt-ad-1463731526790-0'); });\r\n",
            "</script>\n",
            "</div></div></div>\n",
            "</div></div></div><div id=\"footer_full_v2\"  class=\"footer_v2\">\n",
            "<div class=\"social_links\">\n",
            "<div class=\"wrap\">\n",
            "<ul>\n",
            "<li><a href=\"https://www.books.com.tw/mobile/?loc=footer_00_001\"><img src=\"//jci.book.com.tw/css/header/images/social-books-app.svg\" >博客來<br>App&nbsp;下載</a></li>\n",
            "<li><a href=\"https://www.books.com.tw/activity/2021/06/ebooknewer/?loc=footer_00_002\"><img src=\"//jci.book.com.tw/css/header/images/social-ebooks-app.svg\" >博客來<br>電子書App&nbsp;下載</a></li>\n",
            "<li><a href=\"https://www.facebook.com/bookstw?loc=footer_00_003\"><img src=\"//jci.book.com.tw/css/header/images/social-fb.svg\" >博客來<br/>Facebook粉絲專頁</a></li>\n",
            "<li><a href=\"https://www.youtube.com/user/BooksTW?loc=footer_00_004\"><img src=\"//jci.book.com.tw/css/header/images/social-yt.svg\" >博客來<br/>YouTube</a></li>\n",
            "<li><a href=\"https://maac.io/1VWES?loc=footer_00_005\"><img src=\"//jci.book.com.tw/css/header/images/social-line.svg\" >博客來<br>LINE&nbsp;官方帳號</a></li>\n",
            "</ul>\n",
            "<button type=\"button\" class=\"toggle_btn\" onclick=\"document.cookie = 'booksstyle=M;path=/;domain=books.com.tw;';if (typeof dataLayer != 'undefined') {\r\n",
            "                            dataLayer.push({'event': 'SendEvent', 'eventCategory': 'change', 'eventAction': 'dtm', 'eventLabel': 'www', 'eventValue': '1', 'eventNonInteraction': 0});\r\n",
            "                        }\r\n",
            "                        if (encodeURI(window.location.pathname).substring(0, 10) == '/products/' || encodeURI(window.location.pathname).indexOf('/ovs') !== -1 || encodeURI(window.location.pathname).indexOf('/sys_ovsbotm') !== -1 || encodeURI(window.location.pathname).indexOf('/sys_saletopovs') !== -1) {\r\n",
            "                            location.href = '//www.books.com.tw/exep/assp.php/bookland' + encodeURI(window.location.pathname + window.location.search) + '?loc=footer_00_005';\r\n",
            "                        } else {\r\n",
            "                            location.href = '//www.books.com.tw/exep/assp.php/bookland?loc=footer_00_005';\r\n",
            "                        }\"><img src=\"//jci.book.com.tw/css/header/images/icon-mobile-01.svg\" alt=\"切換行動版\">切換行動版</button>\n",
            "</div></div><div class=\"sitemap_service\">\n",
            "<div class=\"wrap\">\n",
            "<dl class=\"box\">\n",
            "<dt>關於我們</dt>\n",
            "<dd><a href=\"https://www.books.com.tw/isi/aboutbooks.htm?loc=footer_01_001\">關於博客來</a></dd>\n",
            "<dd><a href=\"https://www.7-11.com.tw/pcsc/Index.html?loc=footer_01_002\">關於PCSC</a>\n",
            "<dd><a href=\"https://www.104.com.tw/jobbank/custjob/index.php?r=cust&j=4c4a436e3c5c3e2548423c1d1d1d1d5f2443a363189j99&jobsource=n104bank1&footer_01_003\">人才募集</a></dd>\n",
            "<dd><a href=\"https://www.books.com.tw/stakeholder/index?loc=footer_01_004\">利害關係人專區</a></dd>\n",
            "</dl>\n",
            "<dl class=\"box\">\n",
            "<dt>企業合作</dt>\n",
            "<dd><a href=\"https://group.books.com.tw/?loc=footer_02_001\">企業採購</a>\n",
            "<dd><a href=\"https://www.books.com.tw/benefit/?loc=footer_02_002\">福利平台</a></dd>\n",
            "<dd><a href=\"https://www.books.com.tw/exep/supplier/addsupplier.php?loc=footer_02_003\">成為供應商</a></dd>\n",
            "<dd><a href=\"https://ap.books.com.tw/?loc=footer_03_004\">AP策略聯盟</a></dd>\n",
            "<dd><a href=\"https://www.books.com.tw/marketing/ad.htm?loc=footer_02_005\">異業合作</a></dd>\n",
            "<dd><a href=\"https://www.books.com.tw/activity/adsale/2022/index.html?loc=footer_02_006\">廣告刊登</a></dd>\n",
            "</dl>\n",
            "<dl class=\"box\">\n",
            "<dt>好站連結</dt>\n",
            "<dd><a href=\"https://okapi.books.com.tw/index.php/?loc=footer_03_001\">OKAPI&nbsp;閱讀生活誌</a></dd>\n",
            "<dd><a href=\"https://youth.books.com.tw/?loc=footer_03_002\">青春博客來</a></dd>\n",
            "<dd><a href=\"https://activity.books.com.tw/crosscat/show/A00000003004?loc=footer_03_003\">高中生書店</a></dd>\n",
            "<dd><a href=\"https://tickets.books.com.tw/index/?loc=footer_03_004\">售票網</a></dd>\n",
            "</dl>\n",
            "<dl class=\"box\">\n",
            "<dt>會員服務</dt>\n",
            "<dd><a href=\"https://myaccount.books.com.tw/myaccount/myaccount/index/?loc=tw_customer_007\">會員專區</a></dd>\n",
            "<dd><a href=\"javascript:void(0);\" onclick=\"location.href='https://cart.books.com.tw/member/join_step1/?loc=footer_04_001&url=' + encodeURIComponent(window.location.href);\">加入會員</a></dd>\n",
            "<dd><a href=\"https://www.books.com.tw/activity/guide/?loc=footer_04_002\">新手上路</a>\n",
            "<dd><a href=\"https://www.books.com.tw/activity/vip/?loc=footer_04_003\">會員分級</a></dd>\n",
            "<dd><a href=\"https://cart.books.com.tw/member/forgot/?loc=footer_04_004\">查詢帳號密碼</a></dd>\n",
            "<dd><a href=\"https://www.books.com.tw/e-page/?loc=footer_04_005\">訂閱電子報</a></dd>\n",
            "</dl>\n",
            "<dl class=\"box\">\n",
            "<dt>客服中心</dt></dd>\n",
            "<dd><a href=\"https://www.books.com.tw/web/qa/?loc=footer_05_001\"><img src=\"//jci.book.com.tw/css/header/images/icon-help-01-white.svg\" class=\"svg-icon\" >常見問題</a></dd>\n",
            "<dd><a href=\"https://www.books.com.tw/web/csservice?loc=footer_05_002\"><img src=\"//jci.book.com.tw/css/header/images/icon-headphones-01-white.svg\" class=\"svg-icon\" >線上客服</a></dd>\n",
            "<dd><a href=\"https://www.books.com.tw/question/inquiry/?loc=footer_05_003\"><img src=\"//jci.book.com.tw/css/header/images/icon-email-01-white.svg\" class=\"svg-icon\" >客服信箱</a></dd>\n",
            "<dd><img src=\"//jci.book.com.tw/css/header/images/icon-calendar-01-white.svg\" class=\"svg-icon\" >\n",
            "<ul>\n",
            "<li>週一 ~ 五 08:00 - 19:00</li>\n",
            "<li>週六日、例假日 09:00 - 18:00</li>\n",
            "</ul>\n",
            "</dd>\n",
            "<dd><img src=\"//jci.book.com.tw/css/header/images/icon-phone-01-white.svg\" class=\"svg-icon\" >\n",
            "<ul>\n",
            "<li>客服專線&nbsp;02-26535588</li>\n",
            "<li>傳&nbsp;&nbsp;&nbsp;&nbsp;真&nbsp;02-27885008</li>\n",
            "</ul>\n",
            "</dd>\n",
            "</dl>\n",
            "</div></div><div class=\"awards\">\n",
            "<h3 class=\"title\">得獎認證</h3>\n",
            "<div class=\"logo\">\n",
            "<span class=\"logo_7\" title=\"天下雜誌2017金牌服務大賞\"></span>\n",
            "<span class=\"logo_8\" title=\"2016新世代最嚮往企業\"></span>\n",
            "<span class=\"logo_1\" title=\"SSL憑證服務\"></span>\n",
            "<span class=\"logo_2\" title=\"數位時代2012年台灣網站100強\"></span>\n",
            "<span class=\"logo_3\" title=\"電子發票推廣標章\"></span>\n",
            "<span class=\"logo_6\" title=\"dpmark資料隱私保護標章\"></span>\n",
            "<span class=\"logo_5\" title=\"數位時代2011台灣電子商務TOP50強\"></span>\n",
            "<span class=\"logo_9\" title=\"行政院環保署B2C網購包裝減量標章。包裝減量。環保材質。循環包材。\"></span>\n",
            "</div></div><div class=\"copyright\">\n",
            "<p><span>客戶服務專線：02-26535588</span>&nbsp;&nbsp;<span>傳真：02-27885008</span>&nbsp;&nbsp;<span>服務時間：週一~五 8:00~19:00，週六~日、例假日 9:00~18:00，365天全年無休</span></p>\n",
            "<p>\n",
            "<span>博客來數位科技股份有限公司</span>&nbsp;&nbsp;\r\n",
            "<span>統編 : 96922355</span>&nbsp;&nbsp;\r\n",
            "<span>地址：臺灣 115 台北市南港區八德路四段768巷1弄18號B1之1</span>&nbsp;&nbsp;\r\n",
            "<span>食品業者登錄字號：A-196922355-00000-9</span>\n",
            "</p>\n",
            "<p>Copyright &copy; since 1995 books.com.tw All Rights Reserved.</p>\n",
            "</div><div class=\"terms_links\">\n",
            "<ul class=\"links\">\n",
            "<li><a href=\"https://www.books.com.tw/services/privacy.htm?loc=m_tw_footer_inprivacy\">資訊安全</a></li>\n",
            "<li><a href=\"https://www.books.com.tw/web/about_policy/?loc=m_tw_footer_servicepolicy\">服務條款</a></li>\n",
            "<li><a href=\"https://www.books.com.tw/web/about_privacy/?loc=m_tw_footer_privacy\">隱私權政策</a></li>\n",
            "</ul>\n",
            "</div></div><script src=\"https://www.books.com.tw/jss/web/books_image_patcher.js\"></script>\n",
            "<script>\n",
            "window.onload = function(){\r\n",
            "        var imagePatcher= new BooksImagePatcher();\r\n",
            "        imagePatcher.startPatch();\r\n",
            "}\r\n",
            "</script>\n",
            "<script>fbq('trackCustom', 'VirtualPageView', {url: '/products/0010881161?bcat=001&bsub=19&bbrand=deepmind'})</script>\n",
            "</body>\n",
            "</html>\n"
          ]
        }
      ]
    },
    {
      "cell_type": "markdown",
      "source": [
        "## 使用requests呼叫web API，寫一個中文字典\n",
        "萌點API:https://github.com/g0v/moedict-webkit\n",
        "\n",
        "API: Application Programming Interface\n",
        "\n",
        "API是一個提供給應用程式(Application)使用程式(Program)來存取特定服務的介面(Interface)。"
      ],
      "metadata": {
        "id": "ADHfZhtdPOE4"
      }
    },
    {
      "cell_type": "markdown",
      "source": [
        "#### 方法一"
      ],
      "metadata": {
        "id": "gnyImx_EQypg"
      }
    },
    {
      "cell_type": "code",
      "source": [
        "import json"
      ],
      "metadata": {
        "id": "3Vg6ho4NRItb"
      },
      "execution_count": null,
      "outputs": []
    },
    {
      "cell_type": "code",
      "source": [
        "q=\"教室\""
      ],
      "metadata": {
        "id": "XfmdEdVmRBoy"
      },
      "execution_count": null,
      "outputs": []
    },
    {
      "cell_type": "code",
      "source": [
        "url='https://www.moedict.tw/uni/'+q"
      ],
      "metadata": {
        "id": "vCEh6HevOwfU"
      },
      "execution_count": null,
      "outputs": []
    },
    {
      "cell_type": "code",
      "source": [
        "r=requests.get(url)"
      ],
      "metadata": {
        "id": "ribW0p8jRPGj"
      },
      "execution_count": null,
      "outputs": []
    },
    {
      "cell_type": "code",
      "source": [
        "print(r.text)"
      ],
      "metadata": {
        "colab": {
          "base_uri": "https://localhost:8080/"
        },
        "id": "Evv9n_KSRYgc",
        "outputId": "dd25d814-421b-41b5-8b03-35870cb416bd"
      },
      "execution_count": null,
      "outputs": [
        {
          "output_type": "stream",
          "name": "stdout",
          "text": [
            "\t{\n",
            "\t\t\"heteronyms\": [\n",
            "\t\t\t{\n",
            "\t\t\t\t\"bopomofo\": \"ㄐㄧㄠˋ ㄕˋ\",\n",
            "\t\t\t\t\"bopomofo2\": \"jiàu shr̀\",\n",
            "\t\t\t\t\"definitions\": [\n",
            "\t\t\t\t\t{\n",
            "\t\t\t\t\t\t\"def\": \"學校裡進行教學活動的房間。\",\n",
            "\t\t\t\t\t\t\"example\": [\n",
            "\t\t\t\t\t\t\t\"如：「實驗教室」、「音樂教室」。\"\n",
            "\t\t\t\t\t\t],\n",
            "\t\t\t\t\t\t\"synonyms\": \"課堂,講堂\"\n",
            "\t\t\t\t\t}\n",
            "\t\t\t\t],\n",
            "\t\t\t\t\"pinyin\": \"jiào shì\"\n",
            "\t\t\t}\n",
            "\t\t],\n",
            "\t\t\"title\": \"教室\"\n",
            "\t}\n"
          ]
        }
      ]
    },
    {
      "cell_type": "markdown",
      "source": [
        "##### 剖析資料"
      ],
      "metadata": {
        "id": "fP2TxUOGU3ts"
      }
    },
    {
      "cell_type": "code",
      "source": [
        "data = json.loads(r.text)"
      ],
      "metadata": {
        "id": "4EgCrf-xU8L8"
      },
      "execution_count": null,
      "outputs": []
    },
    {
      "cell_type": "code",
      "source": [
        "type(data)"
      ],
      "metadata": {
        "colab": {
          "base_uri": "https://localhost:8080/"
        },
        "id": "iXD3MpqyVAs1",
        "outputId": "ff7543d1-0106-4772-f8b2-ea4e09a9aeae"
      },
      "execution_count": null,
      "outputs": [
        {
          "output_type": "execute_result",
          "data": {
            "text/plain": [
              "dict"
            ]
          },
          "metadata": {},
          "execution_count": 52
        }
      ]
    },
    {
      "cell_type": "code",
      "source": [
        "data"
      ],
      "metadata": {
        "colab": {
          "base_uri": "https://localhost:8080/"
        },
        "id": "n25hcFebVCVd",
        "outputId": "f06249de-1088-4bc2-f8ea-80a863839b5a"
      },
      "execution_count": null,
      "outputs": [
        {
          "output_type": "execute_result",
          "data": {
            "text/plain": [
              "{'heteronyms': [{'bopomofo': 'ㄐㄧㄠˋ ㄕˋ',\n",
              "   'bopomofo2': 'jiàu shr̀',\n",
              "   'definitions': [{'def': '學校裡進行教學活動的房間。',\n",
              "     'example': ['如：「實驗教室」、「音樂教室」。'],\n",
              "     'synonyms': '課堂,講堂'}],\n",
              "   'pinyin': 'jiào shì'}],\n",
              " 'title': '教室'}"
            ]
          },
          "metadata": {},
          "execution_count": 63
        }
      ]
    },
    {
      "cell_type": "code",
      "source": [
        "data['heteronyms']"
      ],
      "metadata": {
        "id": "Pxuyk-vSZB4C"
      },
      "execution_count": null,
      "outputs": []
    },
    {
      "cell_type": "code",
      "source": [
        "type(data['heteronyms'])"
      ],
      "metadata": {
        "id": "auzUjM2gZDgQ"
      },
      "execution_count": null,
      "outputs": []
    },
    {
      "cell_type": "code",
      "source": [
        "len(data['heteronyms'])"
      ],
      "metadata": {
        "id": "ZY2LAF3FZFDZ"
      },
      "execution_count": null,
      "outputs": []
    },
    {
      "cell_type": "code",
      "source": [
        "data['heteronyms'][0]"
      ],
      "metadata": {
        "id": "qITj-zbvZG-L"
      },
      "execution_count": null,
      "outputs": []
    },
    {
      "cell_type": "code",
      "source": [
        "data['heteronyms'][0]['definitions']"
      ],
      "metadata": {
        "id": "oREELW3xZIkK"
      },
      "execution_count": null,
      "outputs": []
    },
    {
      "cell_type": "code",
      "source": [
        "data['heteronyms'][0]['definitions'][0]"
      ],
      "metadata": {
        "id": "vUvHSajGZKyZ"
      },
      "execution_count": null,
      "outputs": []
    },
    {
      "cell_type": "code",
      "source": [
        "data[\"heteronyms\"][0][\"definitions\"][0][\"def\"]"
      ],
      "metadata": {
        "colab": {
          "base_uri": "https://localhost:8080/",
          "height": 35
        },
        "id": "EMWAtHbVVTRd",
        "outputId": "f123d499-610d-444e-9542-bdc1a435c66d"
      },
      "execution_count": null,
      "outputs": [
        {
          "output_type": "execute_result",
          "data": {
            "text/plain": [
              "'學校裡進行教學活動的房間。'"
            ],
            "application/vnd.google.colaboratory.intrinsic+json": {
              "type": "string"
            }
          },
          "metadata": {},
          "execution_count": 69
        }
      ]
    },
    {
      "cell_type": "markdown",
      "source": [
        "#### 方法二"
      ],
      "metadata": {
        "id": "heSYyP-fYFgb"
      }
    },
    {
      "cell_type": "code",
      "source": [
        "# 直接抓取json資料根\n",
        "data = requests.get(url).json()"
      ],
      "metadata": {
        "id": "wEM5PkVxVgVO"
      },
      "execution_count": null,
      "outputs": []
    },
    {
      "cell_type": "code",
      "source": [
        "data['heteronyms'][0]['definitions'][0]['def']"
      ],
      "metadata": {
        "colab": {
          "base_uri": "https://localhost:8080/",
          "height": 35
        },
        "id": "gSmRYxqZYv2Y",
        "outputId": "c7a11fb6-b6c4-4e7e-92e6-7814ede714bb"
      },
      "execution_count": null,
      "outputs": [
        {
          "output_type": "execute_result",
          "data": {
            "text/plain": [
              "'學校裡進行教學活動的房間。'"
            ],
            "application/vnd.google.colaboratory.intrinsic+json": {
              "type": "string"
            }
          },
          "metadata": {},
          "execution_count": 75
        }
      ]
    },
    {
      "cell_type": "markdown",
      "source": [
        "#### 將方法二寫成函式來使用"
      ],
      "metadata": {
        "id": "QLLRgzqqZSFy"
      }
    },
    {
      "cell_type": "code",
      "source": [
        "def lookup(q):\n",
        "  url='https://www.moedict.tw/uni/'+q\n",
        "  data = requests.get(url).json()\n",
        "  return data['heteronyms'][0]['definitions'][0]['def']"
      ],
      "metadata": {
        "id": "cQcJN-xVWtOE"
      },
      "execution_count": null,
      "outputs": []
    },
    {
      "cell_type": "code",
      "source": [
        "lookup(\"教室\")"
      ],
      "metadata": {
        "colab": {
          "base_uri": "https://localhost:8080/",
          "height": 35
        },
        "id": "IgnT1FMOZ6qu",
        "outputId": "c870b41b-9b29-4d4f-847b-4daf7f8babfe"
      },
      "execution_count": null,
      "outputs": [
        {
          "output_type": "execute_result",
          "data": {
            "text/plain": [
              "'學校裡進行教學活動的房間。'"
            ],
            "application/vnd.google.colaboratory.intrinsic+json": {
              "type": "string"
            }
          },
          "metadata": {},
          "execution_count": 77
        }
      ]
    },
    {
      "cell_type": "code",
      "source": [
        "lookup(\"森林\")"
      ],
      "metadata": {
        "colab": {
          "base_uri": "https://localhost:8080/",
          "height": 35
        },
        "id": "tIo2DPD8aEej",
        "outputId": "842d8384-f126-42e7-8e28-7ef0f5dd865e"
      },
      "execution_count": null,
      "outputs": [
        {
          "output_type": "execute_result",
          "data": {
            "text/plain": [
              "'樹木密生的寬廣地區。'"
            ],
            "application/vnd.google.colaboratory.intrinsic+json": {
              "type": "string"
            }
          },
          "metadata": {},
          "execution_count": 78
        }
      ]
    },
    {
      "cell_type": "markdown",
      "source": [
        "#### reqests.get(url).json() 是啥？\n",
        "\n",
        "底下兩個東西結果是一樣的：\n",
        "\n",
        "作法一：\n",
        "\n",
        "```python\n",
        "import requests\n",
        "import json\n",
        "\n",
        "r = reqests.get(url)\n",
        "data = json.loads(r.text)\n",
        "```\n",
        "作法二:\n",
        "```python\n",
        "import requests\n",
        "\n",
        "data = requests.get(url).json()\n",
        "```"
      ],
      "metadata": {
        "id": "0DZlPFrhbgEn"
      }
    },
    {
      "cell_type": "markdown",
      "source": [
        "#####作業"
      ],
      "metadata": {
        "id": "hqWoYQebeEOI"
      }
    },
    {
      "cell_type": "code",
      "source": [
        "#### 讀取0050成份股\n",
        "\n",
        "https://www.yuantaetfs.com/api/StkWeights?date=&fundid=1066"
      ],
      "metadata": {
        "id": "Tp-8PuI_bsEj"
      },
      "execution_count": null,
      "outputs": []
    },
    {
      "cell_type": "code",
      "source": [
        "import requests\n",
        "\n",
        "def lookupstock():\n",
        "  url=\"https://www.yuantaetfs.com/api/StkWeights?date=&fundid=1066\"\n",
        "  data=requests.get(url).json()\n",
        "\n",
        "  for i in data:\n",
        "    print(i['code'],\":\",i['name'])\n",
        "\n",
        "lookupstock()"
      ],
      "metadata": {
        "colab": {
          "base_uri": "https://localhost:8080/"
        },
        "id": "hkQdNijGeMuR",
        "outputId": "668d4f50-554e-45c3-f756-c35f577b7280"
      },
      "execution_count": null,
      "outputs": [
        {
          "output_type": "stream",
          "name": "stdout",
          "text": [
            "{'code': '2330', 'ym': None, 'name': '台積電', 'ename': 'Taiwan Semiconductor Manufacturing Co. Ltd.', 'weights': 48.73, 'qty': 246120278.0}\n",
            "{'code': '2317', 'ym': None, 'name': '鴻海', 'ename': 'HON HAI PRECISION IND. CO. LTD.', 'weights': 4.51, 'qty': 122305400.0}\n",
            "{'code': '2454', 'ym': None, 'name': '聯發科', 'ename': 'MediaTek Inc.', 'weights': 4.1, 'qty': 15248561.0}\n",
            "{'code': '2308', 'ym': None, 'name': '台達電', 'ename': 'DELTA ELECTRONICS INC.', 'weights': 2.36, 'qty': 22141605.0}\n",
            "{'code': '2303', 'ym': None, 'name': '聯電', 'ename': 'UNITED MICROELECTRONICS CORP.', 'weights': 2.21, 'qty': 119992423.0}\n",
            "{'code': '2881', 'ym': None, 'name': '富邦金', 'ename': 'Fubon Financial Holding Co. Ltd.', 'weights': 1.62, 'qty': 75568931.0}\n",
            "{'code': '2412', 'ym': None, 'name': '中華電', 'ename': 'Chunghwa Telecom Co. Ltd', 'weights': 1.6, 'qty': 38981167.0}\n",
            "{'code': '1303', 'ym': None, 'name': '南亞', 'ename': 'NAN YA PLASTICS CORPORATION', 'weights': 1.56, 'qty': 57880391.0}\n",
            "{'code': '2891', 'ym': None, 'name': '中信金', 'ename': 'CTBC FINANCIAL HOLDING CO. LTD.', 'weights': 1.52, 'qty': 185988205.0}\n",
            "{'code': '2002', 'ym': None, 'name': '中鋼', 'ename': 'China Steel Corporation', 'weights': 1.43, 'qty': 126394577.0}\n",
            "{'code': '2882', 'ym': None, 'name': '國泰金', 'ename': 'CATHAY FINANCIAL HOLDING CO. LTD.', 'weights': 1.42, 'qty': 91602832.0}\n",
            "{'code': '2886', 'ym': None, 'name': '兆豐金', 'ename': 'Mega Financial Holding Company Ltd.', 'weights': 1.35, 'qty': 114362664.0}\n",
            "{'code': '3711', 'ym': None, 'name': '日月光投控', 'ename': 'ASE Technology Holding Co. Ltd.', 'weights': 1.34, 'qty': 34886744.0}\n",
            "{'code': '2884', 'ym': None, 'name': '玉山金', 'ename': 'E.SUN FINANCIAL HOLDING COMPANYLTD.', 'weights': 1.25, 'qty': 138873462.0}\n",
            "{'code': '1301', 'ym': None, 'name': '台塑', 'ename': 'Formosa Plastics Corporation', 'weights': 1.24, 'qty': 38231086.0}\n",
            "{'code': '5871', 'ym': None, 'name': '中租-KY', 'ename': 'Chailease Holding Company Limited', 'weights': 1.2, 'qty': 14144085.0}\n",
            "{'code': '1216', 'ym': None, 'name': '統一', 'ename': 'UNI-PRESIDENT ENTERPRISES CORP.', 'weights': 1.19, 'qty': 49132681.0}\n",
            "{'code': '2892', 'ym': None, 'name': '第一金', 'ename': 'First  Financial  Holding  Co.  Ltd.', 'weights': 1.02, 'qty': 106817864.0}\n",
            "{'code': '2885', 'ym': None, 'name': '元大金', 'ename': 'Yuanta Financial Holding Co. Ltd', 'weights': 1.02, 'qty': 122755367.0}\n",
            "{'code': '5880', 'ym': None, 'name': '合庫金', 'ename': 'Taiwan Cooperative Financial Holding Co.Ltd.', 'weights': 1.0, 'qty': 103436952.0}\n",
            "{'code': '1326', 'ym': None, 'name': '台化', 'ename': 'FORMOSA CHEMICALS & FIBRE CORPORATION', 'weights': 0.9, 'qty': 35087873.0}\n",
            "{'code': '1101', 'ym': None, 'name': '台泥', 'ename': 'Taiwan Cement Corp.', 'weights': 0.87, 'qty': 64754131.0}\n",
            "{'code': '3008', 'ym': None, 'name': '大立光', 'ename': 'LARGAN Precision Co.Ltd', 'weights': 0.86, 'qty': 1050671.0}\n",
            "{'code': '2880', 'ym': None, 'name': '華南金', 'ename': 'HUA NAN FINANCIAL HOLDINGS CO.LTD.', 'weights': 0.86, 'qty': 104118718.0}\n",
            "{'code': '3034', 'ym': None, 'name': '聯詠', 'ename': 'NOVATEK MICROELECTRONICS CORP.', 'weights': 0.82, 'qty': 5865565.0}\n",
            "{'code': '2382', 'ym': None, 'name': '廣達', 'ename': 'QUANTA COMPUTER INC.', 'weights': 0.77, 'qty': 27268460.0}\n",
            "{'code': '6415', 'ym': None, 'name': '矽力*-KY', 'ename': 'Silergy Corp.', 'weights': 0.76, 'qty': 3317515.0}\n",
            "{'code': '2883', 'ym': None, 'name': '開發金', 'ename': 'CHINA DEVELOPMENT FINANCIAL HOLDING CORP.', 'weights': 0.76, 'qty': 161503344.0}\n",
            "{'code': '2327', 'ym': None, 'name': '國巨', 'ename': 'YAGEO CORPORATION', 'weights': 0.75, 'qty': 4002627.0}\n",
            "{'code': '2207', 'ym': None, 'name': '和泰車', 'ename': 'HOTAI MOTOR CO.LTD.', 'weights': 0.74, 'qty': 3268973.0}\n",
            "{'code': '2357', 'ym': None, 'name': '華碩', 'ename': 'ASUSTEK COMPUTER INC.', 'weights': 0.71, 'qty': 7228285.0}\n",
            "{'code': '2887', 'ym': None, 'name': '台新金', 'ename': 'Taishin Financial Holding Co. Ltd.', 'weights': 0.68, 'qty': 116495910.0}\n",
            "{'code': '2890', 'ym': None, 'name': '永豐金', 'ename': 'SINOPAC  FINANCIAL HOLDINGS COMPANY LIMITED', 'weights': 0.68, 'qty': 108573634.0}\n",
            "{'code': '1590', 'ym': None, 'name': '亞德客-KY', 'ename': 'AIRTAC INTERNATIONAL GROUP', 'weights': 0.63, 'qty': 1600046.0}\n",
            "{'code': '2379', 'ym': None, 'name': '瑞昱', 'ename': 'Realtek Semiconductor Corporation', 'weights': 0.63, 'qty': 4874788.0}\n",
            "{'code': '3045', 'ym': None, 'name': '台灣大', 'ename': 'TAIWAN  MOBILE  CO. LTD.', 'weights': 0.62, 'qty': 17684259.0}\n",
            "{'code': '5876', 'ym': None, 'name': '上海商銀', 'ename': 'THE SHANGHAI COMMERCIAL & SAVINGS BANK LTD.', 'weights': 0.62, 'qty': 36040157.0}\n",
            "{'code': '3037', 'ym': None, 'name': '欣興', 'ename': 'Unimicron Technology Corp.', 'weights': 0.6, 'qty': 12895441.0}\n",
            "{'code': '2912', 'ym': None, 'name': '統一超', 'ename': 'PRESIDENT CHAIN STORE CORPORATION', 'weights': 0.56, 'qty': 5752852.0}\n",
            "{'code': '2395', 'ym': None, 'name': '研華', 'ename': 'ADVANTECH Co. Ltd.', 'weights': 0.55, 'qty': 4233348.0}\n",
            "{'code': '2603', 'ym': None, 'name': '長榮', 'ename': 'EVERGREEN MARINE CORP. (TAIWAN) LTD.', 'weights': 0.55, 'qty': 10309167.0}\n",
            "{'code': '1402', 'ym': None, 'name': '遠東新', 'ename': 'Far Eastern New Century Corporation', 'weights': 0.47, 'qty': 40210277.0}\n",
            "{'code': '2801', 'ym': None, 'name': '彰銀', 'ename': 'CHANG HWA COMMERCIAL BANK LTD.', 'weights': 0.43, 'qty': 67919862.0}\n",
            "{'code': '6505', 'ym': None, 'name': '台塑化', 'ename': 'Formosa Petrochemical Corp', 'weights': 0.42, 'qty': 13988798.0}\n",
            "{'code': '4904', 'ym': None, 'name': '遠傳', 'ename': 'Far EasTone Telecommunications Co. Ltd.', 'weights': 0.4, 'qty': 16373549.0}\n",
            "{'code': '2615', 'ym': None, 'name': '萬海', 'ename': 'WAN HAI LINES LTD.', 'weights': 0.39, 'qty': 14386012.0}\n",
            "{'code': '2609', 'ym': None, 'name': '陽明', 'ename': 'Yang Ming Marine Transport Corp.', 'weights': 0.39, 'qty': 17902014.0}\n",
            "{'code': '9910', 'ym': None, 'name': '豐泰', 'ename': 'FENG TAY ENTERPRISES CO. LTD.', 'weights': 0.31, 'qty': 4520752.0}\n",
            "{'code': '8046', 'ym': None, 'name': '南電', 'ename': 'NAN YA PRINTED CIRCUIT BOARD CORPORATION', 'weights': 0.19, 'qty': 2153132.0}\n",
            "{'code': '2408', 'ym': None, 'name': '南亞科', 'ename': 'NANYA TECHNOLOGY CORPORATION', 'weights': 0.18, 'qty': 8388112.0}\n"
          ]
        }
      ]
    }
  ]
}