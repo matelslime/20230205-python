{
  "nbformat": 4,
  "nbformat_minor": 0,
  "metadata": {
    "colab": {
      "provenance": [],
      "authorship_tag": "ABX9TyOSUWScGajYXn7Yp37m0uD+",
      "include_colab_link": true
    },
    "kernelspec": {
      "name": "python3",
      "display_name": "Python 3"
    },
    "language_info": {
      "name": "python"
    }
  },
  "cells": [
    {
      "cell_type": "markdown",
      "metadata": {
        "id": "view-in-github",
        "colab_type": "text"
      },
      "source": [
        "<a href=\"https://colab.research.google.com/github/matelslime/python-Note/blob/main/20230211.ipynb\" target=\"_parent\"><img src=\"https://colab.research.google.com/assets/colab-badge.svg\" alt=\"Open In Colab\"/></a>"
      ]
    },
    {
      "cell_type": "markdown",
      "source": [
        "# 20230211筆記"
      ],
      "metadata": {
        "id": "g0YH7JswMZbO"
      }
    },
    {
      "cell_type": "markdown",
      "source": [
        "# 基本資料型態\n",
        "* int(整數)\n",
        "* float(浮點數)\n",
        "* bool(布林變數)\n",
        "* str(字串:文字訊息)\n",
        "\n",
        "使用`type(變數)`可以檢查變數裡面的資料型態"
      ],
      "metadata": {
        "id": "kLIRWap7UMD4"
      }
    },
    {
      "cell_type": "markdown",
      "source": [
        "## 整數除法 (//)"
      ],
      "metadata": {
        "id": "CUXeF5vgXD3I"
      }
    },
    {
      "cell_type": "code",
      "source": [
        "x = 1"
      ],
      "metadata": {
        "id": "Sc6t2P6YY0E4"
      },
      "execution_count": null,
      "outputs": []
    },
    {
      "cell_type": "code",
      "source": [
        "type(x)"
      ],
      "metadata": {
        "id": "wfT3OycOY4RI"
      },
      "execution_count": null,
      "outputs": []
    },
    {
      "cell_type": "code",
      "execution_count": 10,
      "metadata": {
        "id": "UQxwTVM6MVo-"
      },
      "outputs": [],
      "source": [
        "y = 4/2"
      ]
    },
    {
      "cell_type": "code",
      "source": [
        "type(y)"
      ],
      "metadata": {
        "id": "MHdX36phZLqZ"
      },
      "execution_count": null,
      "outputs": []
    },
    {
      "cell_type": "code",
      "source": [
        "y"
      ],
      "metadata": {
        "id": "eAPRmf38ZMsw"
      },
      "execution_count": null,
      "outputs": []
    },
    {
      "cell_type": "code",
      "source": [
        "z = 4//2"
      ],
      "metadata": {
        "id": "VlqomnWSZTgA"
      },
      "execution_count": 8,
      "outputs": []
    },
    {
      "cell_type": "code",
      "source": [
        "type(z)"
      ],
      "metadata": {
        "id": "RKer5WsAZVlv"
      },
      "execution_count": null,
      "outputs": []
    },
    {
      "cell_type": "markdown",
      "source": [
        "##次方(**)"
      ],
      "metadata": {
        "id": "yF7_trfIXRZW"
      }
    },
    {
      "cell_type": "code",
      "source": [
        "2**2"
      ],
      "metadata": {
        "id": "c9UXxtBEZbqe"
      },
      "execution_count": null,
      "outputs": []
    },
    {
      "cell_type": "code",
      "source": [
        "2**4"
      ],
      "metadata": {
        "id": "buAUp-bSZdP-"
      },
      "execution_count": null,
      "outputs": []
    },
    {
      "cell_type": "markdown",
      "source": [
        "## 布林(bool)"
      ],
      "metadata": {
        "id": "AMeFzEalZhbO"
      }
    },
    {
      "cell_type": "code",
      "source": [
        "3 > 2"
      ],
      "metadata": {
        "id": "gmV8GQADZmD4"
      },
      "execution_count": null,
      "outputs": []
    },
    {
      "cell_type": "code",
      "source": [
        "True + True"
      ],
      "metadata": {
        "id": "HegaqeciZzGv"
      },
      "execution_count": null,
      "outputs": []
    },
    {
      "cell_type": "code",
      "source": [
        "True + False"
      ],
      "metadata": {
        "id": "2gyqYLeSZ002"
      },
      "execution_count": null,
      "outputs": []
    },
    {
      "cell_type": "code",
      "source": [
        "# 比較兩個變數內的值有沒有相等\n",
        "x == z"
      ],
      "metadata": {
        "id": "NMuS8ReJZ3N_"
      },
      "execution_count": null,
      "outputs": []
    },
    {
      "cell_type": "markdown",
      "source": [
        "## 字串\n",
        "https://github.com/vcdemy/python_basics/blob/main/%E5%AD%97%E4%B8%B2.md"
      ],
      "metadata": {
        "id": "K0iI51PpZ4PO"
      }
    },
    {
      "cell_type": "code",
      "source": [
        "w = \"dog\""
      ],
      "metadata": {
        "id": "xlGb_u8LaZGY"
      },
      "execution_count": null,
      "outputs": []
    },
    {
      "cell_type": "code",
      "source": [
        "u = \"It's my dog\""
      ],
      "metadata": {
        "id": "UQrbMibmaapJ"
      },
      "execution_count": null,
      "outputs": []
    },
    {
      "cell_type": "code",
      "source": [
        "# 使用跳脫字元 (Escape Character)\n",
        "v = 'It\\'s my dog'"
      ],
      "metadata": {
        "id": "-NXJW0-Iab4A"
      },
      "execution_count": null,
      "outputs": []
    },
    {
      "cell_type": "code",
      "source": [
        "def foo(name):\n",
        "  print(\"hello!\",name)"
      ],
      "metadata": {
        "id": "MvhovEx3Q_JH"
      },
      "execution_count": 2,
      "outputs": []
    },
    {
      "cell_type": "code",
      "source": [
        "y=foo(\"Vv\")"
      ],
      "metadata": {
        "colab": {
          "base_uri": "https://localhost:8080/"
        },
        "id": "lSEtO1cvRJ4t",
        "outputId": "fb1d4a8e-135b-41d0-f930-a02c357194fb"
      },
      "execution_count": 3,
      "outputs": [
        {
          "output_type": "stream",
          "name": "stdout",
          "text": [
            "hello! Vv\n"
          ]
        }
      ]
    }
  ]
}