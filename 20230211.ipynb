{
  "nbformat": 4,
  "nbformat_minor": 0,
  "metadata": {
    "colab": {
      "provenance": [],
      "authorship_tag": "ABX9TyNPx1T1P/Umk1jsJSP8WFHC",
      "include_colab_link": true
    },
    "kernelspec": {
      "name": "python3",
      "display_name": "Python 3"
    },
    "language_info": {
      "name": "python"
    }
  },
  "cells": [
    {
      "cell_type": "markdown",
      "metadata": {
        "id": "view-in-github",
        "colab_type": "text"
      },
      "source": [
        "<a href=\"https://colab.research.google.com/github/matelslime/python-Note/blob/main/20230211.ipynb\" target=\"_parent\"><img src=\"https://colab.research.google.com/assets/colab-badge.svg\" alt=\"Open In Colab\"/></a>"
      ]
    },
    {
      "cell_type": "markdown",
      "source": [
        "# 20230211筆記"
      ],
      "metadata": {
        "id": "g0YH7JswMZbO"
      }
    },
    {
      "cell_type": "markdown",
      "source": [
        "# 基本資料型態\n",
        "* int(整數)\n",
        "* float(浮點數)\n",
        "* bool(布林變數)\n",
        "* str(字串:文字訊息)\n",
        "\n",
        "使用`type(變數)`可以檢查變數裡面的資料型態"
      ],
      "metadata": {
        "id": "kLIRWap7UMD4"
      }
    },
    {
      "cell_type": "markdown",
      "source": [
        "## 整數除法 (//)"
      ],
      "metadata": {
        "id": "CUXeF5vgXD3I"
      }
    },
    {
      "cell_type": "code",
      "source": [
        "x = 1"
      ],
      "metadata": {
        "id": "Sc6t2P6YY0E4"
      },
      "execution_count": null,
      "outputs": []
    },
    {
      "cell_type": "code",
      "source": [
        "type(x)"
      ],
      "metadata": {
        "id": "wfT3OycOY4RI"
      },
      "execution_count": null,
      "outputs": []
    },
    {
      "cell_type": "code",
      "execution_count": 10,
      "metadata": {
        "id": "UQxwTVM6MVo-"
      },
      "outputs": [],
      "source": [
        "y = 4/2"
      ]
    },
    {
      "cell_type": "code",
      "source": [
        "type(y)"
      ],
      "metadata": {
        "id": "MHdX36phZLqZ"
      },
      "execution_count": null,
      "outputs": []
    },
    {
      "cell_type": "code",
      "source": [
        "y"
      ],
      "metadata": {
        "id": "eAPRmf38ZMsw"
      },
      "execution_count": null,
      "outputs": []
    },
    {
      "cell_type": "code",
      "source": [
        "z = 4//2"
      ],
      "metadata": {
        "id": "VlqomnWSZTgA"
      },
      "execution_count": 8,
      "outputs": []
    },
    {
      "cell_type": "code",
      "source": [
        "type(z)"
      ],
      "metadata": {
        "id": "RKer5WsAZVlv"
      },
      "execution_count": null,
      "outputs": []
    },
    {
      "cell_type": "markdown",
      "source": [
        "##次方(**)"
      ],
      "metadata": {
        "id": "yF7_trfIXRZW"
      }
    },
    {
      "cell_type": "code",
      "source": [
        "2**2"
      ],
      "metadata": {
        "id": "c9UXxtBEZbqe"
      },
      "execution_count": null,
      "outputs": []
    },
    {
      "cell_type": "code",
      "source": [
        "2**4"
      ],
      "metadata": {
        "id": "buAUp-bSZdP-"
      },
      "execution_count": null,
      "outputs": []
    },
    {
      "cell_type": "markdown",
      "source": [
        "## 布林(bool)"
      ],
      "metadata": {
        "id": "AMeFzEalZhbO"
      }
    },
    {
      "cell_type": "code",
      "source": [
        "3 > 2"
      ],
      "metadata": {
        "id": "gmV8GQADZmD4"
      },
      "execution_count": null,
      "outputs": []
    },
    {
      "cell_type": "code",
      "source": [
        "True + True"
      ],
      "metadata": {
        "id": "HegaqeciZzGv"
      },
      "execution_count": null,
      "outputs": []
    },
    {
      "cell_type": "code",
      "source": [
        "True + False"
      ],
      "metadata": {
        "id": "2gyqYLeSZ002"
      },
      "execution_count": null,
      "outputs": []
    },
    {
      "cell_type": "code",
      "source": [
        "# 比較兩個變數內的值有沒有相等\n",
        "x == z"
      ],
      "metadata": {
        "id": "NMuS8ReJZ3N_"
      },
      "execution_count": null,
      "outputs": []
    },
    {
      "cell_type": "markdown",
      "source": [
        "## 字串\n",
        "https://github.com/vcdemy/python_basics/blob/main/%E5%AD%97%E4%B8%B2.md"
      ],
      "metadata": {
        "id": "K0iI51PpZ4PO"
      }
    },
    {
      "cell_type": "code",
      "source": [
        "w = \"dog\""
      ],
      "metadata": {
        "id": "xlGb_u8LaZGY"
      },
      "execution_count": null,
      "outputs": []
    },
    {
      "cell_type": "code",
      "source": [
        "u = \"It's my dog\""
      ],
      "metadata": {
        "id": "UQrbMibmaapJ"
      },
      "execution_count": null,
      "outputs": []
    },
    {
      "cell_type": "code",
      "source": [
        "# 使用跳脫字元 (Escape Character)\n",
        "v = 'It\\'s my dog'"
      ],
      "metadata": {
        "id": "-NXJW0-Iab4A"
      },
      "execution_count": null,
      "outputs": []
    },
    {
      "cell_type": "code",
      "source": [
        "def foo(name):\n",
        "  print(\"hello!\",name)"
      ],
      "metadata": {
        "id": "MvhovEx3Q_JH"
      },
      "execution_count": 2,
      "outputs": []
    },
    {
      "cell_type": "code",
      "source": [
        "y=foo(\"Vv\")"
      ],
      "metadata": {
        "colab": {
          "base_uri": "https://localhost:8080/"
        },
        "id": "lSEtO1cvRJ4t",
        "outputId": "fb1d4a8e-135b-41d0-f930-a02c357194fb"
      },
      "execution_count": 3,
      "outputs": [
        {
          "output_type": "stream",
          "name": "stdout",
          "text": [
            "hello! Vv\n"
          ]
        }
      ]
    },
    {
      "cell_type": "markdown",
      "source": [
        "## 字串的加法(+)跟乘法(*)\n"
      ],
      "metadata": {
        "id": "WAVIQKL1ftWp"
      }
    },
    {
      "cell_type": "code",
      "source": [
        "\"abc\"+\"3\""
      ],
      "metadata": {
        "colab": {
          "base_uri": "https://localhost:8080/",
          "height": 35
        },
        "id": "ooh4G3D7fpNq",
        "outputId": "1b08a2c5-85a0-4766-9cd3-08c3af04f4f5"
      },
      "execution_count": 11,
      "outputs": [
        {
          "output_type": "execute_result",
          "data": {
            "text/plain": [
              "'abc3'"
            ],
            "application/vnd.google.colaboratory.intrinsic+json": {
              "type": "string"
            }
          },
          "metadata": {},
          "execution_count": 11
        }
      ]
    },
    {
      "cell_type": "code",
      "source": [
        "\"abc\" * 3"
      ],
      "metadata": {
        "colab": {
          "base_uri": "https://localhost:8080/",
          "height": 35
        },
        "id": "0dpH5N5uf1UC",
        "outputId": "72c71696-d3b5-41af-ddee-95ad65733ef8"
      },
      "execution_count": 12,
      "outputs": [
        {
          "output_type": "execute_result",
          "data": {
            "text/plain": [
              "'abcabcabc'"
            ],
            "application/vnd.google.colaboratory.intrinsic+json": {
              "type": "string"
            }
          },
          "metadata": {},
          "execution_count": 12
        }
      ]
    },
    {
      "cell_type": "markdown",
      "source": [
        "## 練習：(使用字串畫出底下的金字塔)\n",
        "\n",
        "```\n",
        "    *\n",
        "   ***\n",
        "  *****\n",
        " *******\n",
        "*********\n",
        "```"
      ],
      "metadata": {
        "id": "EOodmEfwgBrY"
      }
    },
    {
      "cell_type": "code",
      "source": [
        "for i in range(3):\n",
        "  print(\"程式區塊開始\")\n",
        "  print(i)\n",
        "  print(\"程式區塊結束\")"
      ],
      "metadata": {
        "colab": {
          "base_uri": "https://localhost:8080/"
        },
        "id": "LvWTClt7h7Pp",
        "outputId": "7e589a47-2757-46a6-98f9-c4021bb18885"
      },
      "execution_count": 16,
      "outputs": [
        {
          "output_type": "stream",
          "name": "stdout",
          "text": [
            "程式區塊開始\n",
            "0\n",
            "程式區塊結束\n",
            "程式區塊開始\n",
            "1\n",
            "程式區塊結束\n",
            "程式區塊開始\n",
            "2\n",
            "程式區塊結束\n"
          ]
        }
      ]
    },
    {
      "cell_type": "code",
      "source": [
        "for i in range(5):\n",
        "  print(i)"
      ],
      "metadata": {
        "colab": {
          "base_uri": "https://localhost:8080/"
        },
        "id": "Z_bB04FXiCPA",
        "outputId": "bcfb30b8-068c-41e7-b09a-7e06f4c7ced1"
      },
      "execution_count": 17,
      "outputs": [
        {
          "output_type": "stream",
          "name": "stdout",
          "text": [
            "0\n",
            "1\n",
            "2\n",
            "3\n",
            "4\n"
          ]
        }
      ]
    },
    {
      "cell_type": "code",
      "source": [
        "for i in range(5):\n",
        "  print((2*i+1)*'*')"
      ],
      "metadata": {
        "colab": {
          "base_uri": "https://localhost:8080/"
        },
        "id": "W9v672DjiZB4",
        "outputId": "49fa8ec7-5f02-41fb-d9c5-6ccd69c1f267"
      },
      "execution_count": 18,
      "outputs": [
        {
          "output_type": "stream",
          "name": "stdout",
          "text": [
            "*\n",
            "***\n",
            "*****\n",
            "*******\n",
            "*********\n"
          ]
        }
      ]
    },
    {
      "cell_type": "code",
      "source": [
        "for i in range(5):\n",
        "  print(i*' '+(2*i+1)*'*')"
      ],
      "metadata": {
        "colab": {
          "base_uri": "https://localhost:8080/"
        },
        "id": "7gdIs-1iig6Y",
        "outputId": "c7472737-25e3-424e-c556-660d12370ce0"
      },
      "execution_count": 21,
      "outputs": [
        {
          "output_type": "stream",
          "name": "stdout",
          "text": [
            "*\n",
            " ***\n",
            "  *****\n",
            "   *******\n",
            "    *********\n"
          ]
        }
      ]
    },
    {
      "cell_type": "code",
      "source": [
        "def tower(n):\n",
        " for i in range(n):\n",
        "  print((n-i)*' '+(1+2*i)*'*')\n",
        "\n",
        "tower(5)\n",
        "  \n"
      ],
      "metadata": {
        "colab": {
          "base_uri": "https://localhost:8080/"
        },
        "id": "cOeSumBkgUnh",
        "outputId": "93e65ad6-0124-48f7-f535-79ad0e24fc5e"
      },
      "execution_count": 33,
      "outputs": [
        {
          "output_type": "stream",
          "name": "stdout",
          "text": [
            "     *\n",
            "    ***\n",
            "   *****\n",
            "  *******\n",
            " *********\n"
          ]
        }
      ]
    },
    {
      "cell_type": "markdown",
      "source": [
        "## input()及print()\n",
        "input():用來讀取輸入\n",
        "print():用來列印輸入"
      ],
      "metadata": {
        "id": "tSRqZpqekzIA"
      }
    },
    {
      "cell_type": "code",
      "source": [
        "x=input(\"請輸入一個數字: \")"
      ],
      "metadata": {
        "colab": {
          "base_uri": "https://localhost:8080/"
        },
        "id": "P6-GVSNEk7Up",
        "outputId": "e1003945-dece-4cc7-bedf-616080e80853"
      },
      "execution_count": 36,
      "outputs": [
        {
          "name": "stdout",
          "output_type": "stream",
          "text": [
            "請輸入一個數字: 100\n"
          ]
        }
      ]
    },
    {
      "cell_type": "code",
      "source": [
        "type(x)"
      ],
      "metadata": {
        "colab": {
          "base_uri": "https://localhost:8080/"
        },
        "id": "-bzFsEPFlMfy",
        "outputId": "3768875e-d513-42cc-e894-7abedd09510b"
      },
      "execution_count": 37,
      "outputs": [
        {
          "output_type": "execute_result",
          "data": {
            "text/plain": [
              "str"
            ]
          },
          "metadata": {},
          "execution_count": 37
        }
      ]
    },
    {
      "cell_type": "code",
      "source": [
        "print(x)"
      ],
      "metadata": {
        "colab": {
          "base_uri": "https://localhost:8080/"
        },
        "id": "yNdoPPRslt_h",
        "outputId": "063f154c-8171-4d34-edbb-c2c2c107514a"
      },
      "execution_count": 38,
      "outputs": [
        {
          "output_type": "stream",
          "name": "stdout",
          "text": [
            "100\n"
          ]
        }
      ]
    },
    {
      "cell_type": "code",
      "source": [
        "x=1\n",
        "y=2\n",
        "z=3\n",
        "print(x,y,z)"
      ],
      "metadata": {
        "colab": {
          "base_uri": "https://localhost:8080/"
        },
        "id": "ikd7_SX9l22q",
        "outputId": "18958a10-8508-494c-f40d-dff7fd67b263"
      },
      "execution_count": 40,
      "outputs": [
        {
          "output_type": "stream",
          "name": "stdout",
          "text": [
            "1 2 3\n"
          ]
        }
      ]
    },
    {
      "cell_type": "code",
      "source": [
        "print(x,y,z,sep=\"\")"
      ],
      "metadata": {
        "colab": {
          "base_uri": "https://localhost:8080/"
        },
        "id": "o1dvLcxol4hh",
        "outputId": "c95a7c78-ea70-4474-cbc3-5f088dbf6ba9"
      },
      "execution_count": 41,
      "outputs": [
        {
          "output_type": "stream",
          "name": "stdout",
          "text": [
            "123\n"
          ]
        }
      ]
    },
    {
      "cell_type": "code",
      "source": [],
      "metadata": {
        "colab": {
          "base_uri": "https://localhost:8080/"
        },
        "id": "dM95Ia1Emlkj",
        "outputId": "491abf74-e848-4cb4-8bfd-66e39aae290b"
      },
      "execution_count": 43,
      "outputs": [
        {
          "output_type": "stream",
          "name": "stdout",
          "text": [
            "請輸入名稱: WSsgdsg\n",
            "hello, WSsgdsg\n"
          ]
        }
      ]
    },
    {
      "cell_type": "markdown",
      "source": [
        "# 基礎容器型別\n",
        "\n",
        "* list(串列)\n",
        "* tuple(元祖)\n",
        "* dict(字典)\n",
        "* set(集合)"
      ],
      "metadata": {
        "id": "XDvzUZNpntz7"
      }
    },
    {
      "cell_type": "code",
      "source": [],
      "metadata": {
        "id": "3mRyNpKkoN7k"
      },
      "execution_count": null,
      "outputs": []
    }
  ]
}